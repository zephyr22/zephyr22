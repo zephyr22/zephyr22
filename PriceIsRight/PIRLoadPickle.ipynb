{
 "cells": [
  {
   "cell_type": "markdown",
   "id": "25a0adfc",
   "metadata": {},
   "source": [
    "File to check the pickled obects and save them with the existing files if they didn't"
   ]
  },
  {
   "cell_type": "code",
   "execution_count": 1,
   "id": "ab5b5c37",
   "metadata": {},
   "outputs": [],
   "source": [
    "import os\n",
    "import sys\n",
    "import datetime\n",
    "import numpy as np\n",
    "import pickle\n",
    "import pandas as pd\n",
    "import time\n",
    "import logging\n",
    "import datetime"
   ]
  },
  {
   "cell_type": "code",
   "execution_count": 2,
   "id": "7dce588a",
   "metadata": {},
   "outputs": [
    {
     "name": "stdout",
     "output_type": "stream",
     "text": [
      "3\n"
     ]
    }
   ],
   "source": [
    "file_name = r\"pir_pickle.pkl\"\n",
    "with open(file_name, 'rb') as file:\n",
    "    my_vars = pickle.load(file)\n",
    "\n",
    "print(len(my_vars))"
   ]
  },
  {
   "cell_type": "code",
   "execution_count": 3,
   "id": "063adb50",
   "metadata": {},
   "outputs": [],
   "source": [
    "data_basics, data_showcase, showcase_missing = my_vars"
   ]
  },
  {
   "cell_type": "markdown",
   "id": "4bd254cf",
   "metadata": {},
   "source": [
    "### Data Basics"
   ]
  },
  {
   "cell_type": "code",
   "execution_count": 4,
   "id": "d460cc49",
   "metadata": {},
   "outputs": [
    {
     "data": {
      "text/plain": [
       "(5431,\n",
       " ['https://tpirepguide.com/?p=18052',\n",
       "  '9782K',\n",
       "  0,\n",
       "  'March 29th, 2022 |  Category: Carey Eps '])"
      ]
     },
     "execution_count": 4,
     "metadata": {},
     "output_type": "execute_result"
    }
   ],
   "source": [
    "len(data_basics), data_basics[0]"
   ]
  },
  {
   "cell_type": "code",
   "execution_count": 5,
   "id": "92efbe04",
   "metadata": {},
   "outputs": [
    {
     "data": {
      "text/html": [
       "<div>\n",
       "<style scoped>\n",
       "    .dataframe tbody tr th:only-of-type {\n",
       "        vertical-align: middle;\n",
       "    }\n",
       "\n",
       "    .dataframe tbody tr th {\n",
       "        vertical-align: top;\n",
       "    }\n",
       "\n",
       "    .dataframe thead th {\n",
       "        text-align: right;\n",
       "    }\n",
       "</style>\n",
       "<table border=\"1\" class=\"dataframe\">\n",
       "  <thead>\n",
       "    <tr style=\"text-align: right;\">\n",
       "      <th></th>\n",
       "      <th>url</th>\n",
       "      <th>episodeID</th>\n",
       "      <th>errorCode</th>\n",
       "      <th>footer</th>\n",
       "      <th>urlParam</th>\n",
       "      <th>EpsCategory</th>\n",
       "      <th>airDate</th>\n",
       "    </tr>\n",
       "  </thead>\n",
       "  <tbody>\n",
       "    <tr>\n",
       "      <th>0</th>\n",
       "      <td>https://tpirepguide.com/?p=18052</td>\n",
       "      <td>9782K</td>\n",
       "      <td>0</td>\n",
       "      <td>March 29th, 2022 |  Category: Carey Eps</td>\n",
       "      <td>18052</td>\n",
       "      <td>Carey Eps</td>\n",
       "      <td>March 29th, 2022</td>\n",
       "    </tr>\n",
       "    <tr>\n",
       "      <th>1</th>\n",
       "      <td>https://tpirepguide.com/?p=18045</td>\n",
       "      <td>9781K</td>\n",
       "      <td>0</td>\n",
       "      <td>March 28th, 2022 |  Category: Carey Eps</td>\n",
       "      <td>18045</td>\n",
       "      <td>Carey Eps</td>\n",
       "      <td>March 28th, 2022</td>\n",
       "    </tr>\n",
       "    <tr>\n",
       "      <th>2</th>\n",
       "      <td>https://tpirepguide.com/?p=18018</td>\n",
       "      <td>9775K</td>\n",
       "      <td>0</td>\n",
       "      <td>March 25th, 2022 |  Category: Carey Eps</td>\n",
       "      <td>18018</td>\n",
       "      <td>Carey Eps</td>\n",
       "      <td>March 25th, 2022</td>\n",
       "    </tr>\n",
       "    <tr>\n",
       "      <th>3</th>\n",
       "      <td>https://tpirepguide.com/?p=18007</td>\n",
       "      <td>9774K</td>\n",
       "      <td>0</td>\n",
       "      <td>March 24th, 2022 |  Category: Carey Eps</td>\n",
       "      <td>18007</td>\n",
       "      <td>Carey Eps</td>\n",
       "      <td>March 24th, 2022</td>\n",
       "    </tr>\n",
       "    <tr>\n",
       "      <th>4</th>\n",
       "      <td>https://tpirepguide.com/?p=17999</td>\n",
       "      <td>9773K</td>\n",
       "      <td>0</td>\n",
       "      <td>March 23rd, 2022 |  Category: Carey Eps</td>\n",
       "      <td>17999</td>\n",
       "      <td>Carey Eps</td>\n",
       "      <td>March 23rd, 2022</td>\n",
       "    </tr>\n",
       "  </tbody>\n",
       "</table>\n",
       "</div>"
      ],
      "text/plain": [
       "                                url episodeID  errorCode  \\\n",
       "0  https://tpirepguide.com/?p=18052     9782K          0   \n",
       "1  https://tpirepguide.com/?p=18045     9781K          0   \n",
       "2  https://tpirepguide.com/?p=18018     9775K          0   \n",
       "3  https://tpirepguide.com/?p=18007     9774K          0   \n",
       "4  https://tpirepguide.com/?p=17999     9773K          0   \n",
       "\n",
       "                                     footer urlParam EpsCategory  \\\n",
       "0  March 29th, 2022 |  Category: Carey Eps     18052   Carey Eps   \n",
       "1  March 28th, 2022 |  Category: Carey Eps     18045   Carey Eps   \n",
       "2  March 25th, 2022 |  Category: Carey Eps     18018   Carey Eps   \n",
       "3  March 24th, 2022 |  Category: Carey Eps     18007   Carey Eps   \n",
       "4  March 23rd, 2022 |  Category: Carey Eps     17999   Carey Eps   \n",
       "\n",
       "            airDate  \n",
       "0  March 29th, 2022  \n",
       "1  March 28th, 2022  \n",
       "2  March 25th, 2022  \n",
       "3  March 24th, 2022  \n",
       "4  March 23rd, 2022  "
      ]
     },
     "execution_count": 5,
     "metadata": {},
     "output_type": "execute_result"
    }
   ],
   "source": [
    "df = pd.DataFrame(data_basics, columns=['url', 'episodeID', 'errorCode', 'footer'])\n",
    "# Additional Column\n",
    "df['urlParam'] = df.url.apply(lambda x: x.split(\"=\")[1])\n",
    "df['EpsCategory'] = df.footer.apply(lambda x: x.split(\":\")[1].strip())\n",
    "df['airDate'] = df.footer.apply(lambda x: x.split(\"|\")[0].strip())\n",
    "df.head(5)"
   ]
  },
  {
   "cell_type": "code",
   "execution_count": 10,
   "id": "f584bbeb",
   "metadata": {},
   "outputs": [
    {
     "data": {
      "text/html": [
       "<div>\n",
       "<style scoped>\n",
       "    .dataframe tbody tr th:only-of-type {\n",
       "        vertical-align: middle;\n",
       "    }\n",
       "\n",
       "    .dataframe tbody tr th {\n",
       "        vertical-align: top;\n",
       "    }\n",
       "\n",
       "    .dataframe thead th {\n",
       "        text-align: right;\n",
       "    }\n",
       "</style>\n",
       "<table border=\"1\" class=\"dataframe\">\n",
       "  <thead>\n",
       "    <tr style=\"text-align: right;\">\n",
       "      <th></th>\n",
       "      <th>url</th>\n",
       "      <th>episodeID</th>\n",
       "      <th>errorCode</th>\n",
       "      <th>footer</th>\n",
       "      <th>urlParam</th>\n",
       "      <th>EpsCategory</th>\n",
       "      <th>airDate</th>\n",
       "    </tr>\n",
       "  </thead>\n",
       "  <tbody>\n",
       "    <tr>\n",
       "      <th>0</th>\n",
       "      <td>https://tpirepguide.com/?p=18052</td>\n",
       "      <td>9782K</td>\n",
       "      <td>0</td>\n",
       "      <td>March 29th, 2022 |  Category: Carey Eps</td>\n",
       "      <td>18052</td>\n",
       "      <td>Carey Eps</td>\n",
       "      <td>March 29th, 2022</td>\n",
       "    </tr>\n",
       "    <tr>\n",
       "      <th>1</th>\n",
       "      <td>https://tpirepguide.com/?p=18045</td>\n",
       "      <td>9781K</td>\n",
       "      <td>0</td>\n",
       "      <td>March 28th, 2022 |  Category: Carey Eps</td>\n",
       "      <td>18045</td>\n",
       "      <td>Carey Eps</td>\n",
       "      <td>March 28th, 2022</td>\n",
       "    </tr>\n",
       "    <tr>\n",
       "      <th>2</th>\n",
       "      <td>https://tpirepguide.com/?p=18018</td>\n",
       "      <td>9775K</td>\n",
       "      <td>0</td>\n",
       "      <td>March 25th, 2022 |  Category: Carey Eps</td>\n",
       "      <td>18018</td>\n",
       "      <td>Carey Eps</td>\n",
       "      <td>March 25th, 2022</td>\n",
       "    </tr>\n",
       "  </tbody>\n",
       "</table>\n",
       "</div>"
      ],
      "text/plain": [
       "                                url episodeID  errorCode  \\\n",
       "0  https://tpirepguide.com/?p=18052     9782K          0   \n",
       "1  https://tpirepguide.com/?p=18045     9781K          0   \n",
       "2  https://tpirepguide.com/?p=18018     9775K          0   \n",
       "\n",
       "                                     footer  urlParam EpsCategory  \\\n",
       "0  March 29th, 2022 |  Category: Carey Eps      18052   Carey Eps   \n",
       "1  March 28th, 2022 |  Category: Carey Eps      18045   Carey Eps   \n",
       "2  March 25th, 2022 |  Category: Carey Eps      18018   Carey Eps   \n",
       "\n",
       "            airDate  \n",
       "0  March 29th, 2022  \n",
       "1  March 28th, 2022  \n",
       "2  March 25th, 2022  "
      ]
     },
     "execution_count": 10,
     "metadata": {},
     "output_type": "execute_result"
    }
   ],
   "source": [
    "old_file_path = r\"Data\\pir_Check.csv\"\n",
    "old_df = pd.read_csv(old_file_path).drop_duplicates()\n",
    "old_df.head(3)"
   ]
  },
  {
   "cell_type": "code",
   "execution_count": 11,
   "id": "02574b94",
   "metadata": {},
   "outputs": [
    {
     "name": "stdout",
     "output_type": "stream",
     "text": [
      "1627 1905\n"
     ]
    },
    {
     "data": {
      "text/plain": [
       "3532"
      ]
     },
     "execution_count": 11,
     "metadata": {},
     "output_type": "execute_result"
    }
   ],
   "source": [
    "print(len(df), len(old_df))\n",
    "if len(old_df) > 0:\n",
    "    df = pd.concat([old_df, df], ignore_index=True)\n",
    "len(df)"
   ]
  },
  {
   "cell_type": "code",
   "execution_count": 7,
   "id": "d5fa771b",
   "metadata": {},
   "outputs": [],
   "source": [
    "old_file_path = r\"Data\\pir_Check.csv\"\n",
    "df.to_csv(old_file_path, index=False, header=True)"
   ]
  },
  {
   "cell_type": "markdown",
   "id": "afb00bbf",
   "metadata": {},
   "source": [
    "### Data Showcase"
   ]
  },
  {
   "cell_type": "code",
   "execution_count": 8,
   "id": "6c3b1a2d",
   "metadata": {},
   "outputs": [
    {
     "data": {
      "text/plain": [
       "(7972,\n",
       "    SC_ind PrizeValue Contestant Spin1 Spin2 Total   ev1      Comments  \\\n",
       " 0       1      1,340    Maurice    85     0    85  None          None   \n",
       " 1       2      8,531        Kim  1.00     0  1.00    50  Bonus Spin ►   \n",
       " 2       3     25,760     Sandra    20    50    70  None          None   \n",
       " \n",
       "   Showcase urlParam  \n",
       " 0      SS1    9782K  \n",
       " 1      SS1    9782K  \n",
       " 2      SS1    9782K  )"
      ]
     },
     "execution_count": 8,
     "metadata": {},
     "output_type": "execute_result"
    }
   ],
   "source": [
    "len(data_showcase), data_showcase[0]"
   ]
  },
  {
   "cell_type": "code",
   "execution_count": 29,
   "id": "f27432d0",
   "metadata": {},
   "outputs": [],
   "source": [
    "error_dfs = []\n",
    "for i in range(0, len(data_showcase)):\n",
    "    show_seg = data_showcase[i]\n",
    "    tot = sum([1 if x in show_seg.columns[j+ 1:] else 0 for j, x in enumerate(show_seg.columns)])\n",
    "    if tot > 0:\n",
    "        error_dfs.append(i)"
   ]
  },
  {
   "cell_type": "code",
   "execution_count": 34,
   "id": "681144c0",
   "metadata": {},
   "outputs": [
    {
     "data": {
      "text/html": [
       "<div>\n",
       "<style scoped>\n",
       "    .dataframe tbody tr th:only-of-type {\n",
       "        vertical-align: middle;\n",
       "    }\n",
       "\n",
       "    .dataframe tbody tr th {\n",
       "        vertical-align: top;\n",
       "    }\n",
       "\n",
       "    .dataframe thead th {\n",
       "        text-align: right;\n",
       "    }\n",
       "</style>\n",
       "<table border=\"1\" class=\"dataframe\">\n",
       "  <thead>\n",
       "    <tr style=\"text-align: right;\">\n",
       "      <th></th>\n",
       "      <th>PrizeValue</th>\n",
       "      <th>Contestant</th>\n",
       "      <th>Spin1</th>\n",
       "      <th>Spin2</th>\n",
       "      <th>Total</th>\n",
       "      <th>ev1</th>\n",
       "      <th>Comments</th>\n",
       "      <th>Showcase</th>\n",
       "      <th>urlParam</th>\n",
       "      <th>SO</th>\n",
       "      <th>...</th>\n",
       "      <th>1,400</th>\n",
       "      <th>Michael</th>\n",
       "      <th>725</th>\n",
       "      <th>Chantel</th>\n",
       "      <th>649</th>\n",
       "      <th>Mark</th>\n",
       "      <th>1,241</th>\n",
       "      <th>Miko</th>\n",
       "      <th>840</th>\n",
       "      <th>Kimberley</th>\n",
       "    </tr>\n",
       "  </thead>\n",
       "  <tbody>\n",
       "    <tr>\n",
       "      <th>0</th>\n",
       "      <td>550</td>\n",
       "      <td>Scott</td>\n",
       "      <td>40</td>\n",
       "      <td>50</td>\n",
       "      <td>90</td>\n",
       "      <td>0</td>\n",
       "      <td>None</td>\n",
       "      <td>SS1</td>\n",
       "      <td>9212K</td>\n",
       "      <td>NaN</td>\n",
       "      <td>...</td>\n",
       "      <td>NaN</td>\n",
       "      <td>NaN</td>\n",
       "      <td>NaN</td>\n",
       "      <td>NaN</td>\n",
       "      <td>NaN</td>\n",
       "      <td>NaN</td>\n",
       "      <td>NaN</td>\n",
       "      <td>NaN</td>\n",
       "      <td>NaN</td>\n",
       "      <td>NaN</td>\n",
       "    </tr>\n",
       "    <tr>\n",
       "      <th>1</th>\n",
       "      <td>2,657</td>\n",
       "      <td>Rita</td>\n",
       "      <td>40</td>\n",
       "      <td>80</td>\n",
       "      <td>120.0</td>\n",
       "      <td>0</td>\n",
       "      <td>None</td>\n",
       "      <td>SS1</td>\n",
       "      <td>9212K</td>\n",
       "      <td>NaN</td>\n",
       "      <td>...</td>\n",
       "      <td>NaN</td>\n",
       "      <td>NaN</td>\n",
       "      <td>NaN</td>\n",
       "      <td>NaN</td>\n",
       "      <td>NaN</td>\n",
       "      <td>NaN</td>\n",
       "      <td>NaN</td>\n",
       "      <td>NaN</td>\n",
       "      <td>NaN</td>\n",
       "      <td>NaN</td>\n",
       "    </tr>\n",
       "    <tr>\n",
       "      <th>2</th>\n",
       "      <td>5,358</td>\n",
       "      <td>Shaun</td>\n",
       "      <td>55</td>\n",
       "      <td>45</td>\n",
       "      <td>1.00</td>\n",
       "      <td>70</td>\n",
       "      <td>Bonus Spin &gt;</td>\n",
       "      <td>SS1</td>\n",
       "      <td>9212K</td>\n",
       "      <td>NaN</td>\n",
       "      <td>...</td>\n",
       "      <td>NaN</td>\n",
       "      <td>NaN</td>\n",
       "      <td>NaN</td>\n",
       "      <td>NaN</td>\n",
       "      <td>NaN</td>\n",
       "      <td>NaN</td>\n",
       "      <td>NaN</td>\n",
       "      <td>NaN</td>\n",
       "      <td>NaN</td>\n",
       "      <td>NaN</td>\n",
       "    </tr>\n",
       "  </tbody>\n",
       "</table>\n",
       "<p>3 rows × 108 columns</p>\n",
       "</div>"
      ],
      "text/plain": [
       "  PrizeValue Contestant Spin1 Spin2  Total ev1      Comments Showcase  \\\n",
       "0        550      Scott    40    50     90   0          None      SS1   \n",
       "1      2,657       Rita    40    80  120.0   0          None      SS1   \n",
       "2      5,358      Shaun    55    45   1.00  70  Bonus Spin >      SS1   \n",
       "\n",
       "  urlParam   SO  ... 1,400 Michael  725 Chantel  649 Mark 1,241 Miko 840  \\\n",
       "0    9212K  NaN  ...   NaN     NaN  NaN     NaN  NaN  NaN   NaN  NaN NaN   \n",
       "1    9212K  NaN  ...   NaN     NaN  NaN     NaN  NaN  NaN   NaN  NaN NaN   \n",
       "2    9212K  NaN  ...   NaN     NaN  NaN     NaN  NaN  NaN   NaN  NaN NaN   \n",
       "\n",
       "   Kimberley  \n",
       "0        NaN  \n",
       "1        NaN  \n",
       "2        NaN  \n",
       "\n",
       "[3 rows x 108 columns]"
      ]
     },
     "execution_count": 34,
     "metadata": {},
     "output_type": "execute_result"
    }
   ],
   "source": [
    "new_showcase = [x for i, x in enumerate(data_showcase) if i not in error_dfs]\n",
    "new_showcase = pd.concat(new_showcase, ignore_index=True)\n",
    "new_showcase.head(3)"
   ]
  },
  {
   "cell_type": "code",
   "execution_count": 37,
   "id": "7bd3b440",
   "metadata": {},
   "outputs": [
    {
     "data": {
      "text/html": [
       "<div>\n",
       "<style scoped>\n",
       "    .dataframe tbody tr th:only-of-type {\n",
       "        vertical-align: middle;\n",
       "    }\n",
       "\n",
       "    .dataframe tbody tr th {\n",
       "        vertical-align: top;\n",
       "    }\n",
       "\n",
       "    .dataframe thead th {\n",
       "        text-align: right;\n",
       "    }\n",
       "</style>\n",
       "<table border=\"1\" class=\"dataframe\">\n",
       "  <thead>\n",
       "    <tr style=\"text-align: right;\">\n",
       "      <th></th>\n",
       "      <th>PrizeValue</th>\n",
       "      <th>Contestant</th>\n",
       "      <th>Spin1</th>\n",
       "      <th>Spin2</th>\n",
       "      <th>Total</th>\n",
       "      <th>ev1</th>\n",
       "      <th>Comments</th>\n",
       "      <th>Showcase</th>\n",
       "      <th>urlParam</th>\n",
       "      <th>SO</th>\n",
       "      <th>...</th>\n",
       "      <th>1,400</th>\n",
       "      <th>Michael</th>\n",
       "      <th>725</th>\n",
       "      <th>Chantel</th>\n",
       "      <th>649</th>\n",
       "      <th>Mark</th>\n",
       "      <th>1,241</th>\n",
       "      <th>Miko</th>\n",
       "      <th>840</th>\n",
       "      <th>Kimberley</th>\n",
       "    </tr>\n",
       "  </thead>\n",
       "  <tbody>\n",
       "    <tr>\n",
       "      <th>8472</th>\n",
       "      <td>11,485</td>\n",
       "      <td>Colby</td>\n",
       "      <td>1.00Bonus</td>\n",
       "      <td>0</td>\n",
       "      <td>1.00Bonus</td>\n",
       "      <td>NaN</td>\n",
       "      <td>0</td>\n",
       "      <td>SS2</td>\n",
       "      <td>6191K</td>\n",
       "      <td>NaN</td>\n",
       "      <td>...</td>\n",
       "      <td>NaN</td>\n",
       "      <td>NaN</td>\n",
       "      <td>80</td>\n",
       "      <td>Spin ►</td>\n",
       "      <td>NaN</td>\n",
       "      <td>NaN</td>\n",
       "      <td>NaN</td>\n",
       "      <td>NaN</td>\n",
       "      <td>NaN</td>\n",
       "      <td>NaN</td>\n",
       "    </tr>\n",
       "    <tr>\n",
       "      <th>8473</th>\n",
       "      <td>18,487</td>\n",
       "      <td>Toni</td>\n",
       "      <td>20</td>\n",
       "      <td>45</td>\n",
       "      <td>65</td>\n",
       "      <td>NaN</td>\n",
       "      <td>0</td>\n",
       "      <td>SS2</td>\n",
       "      <td>6191K</td>\n",
       "      <td>NaN</td>\n",
       "      <td>...</td>\n",
       "      <td>NaN</td>\n",
       "      <td>NaN</td>\n",
       "      <td>0</td>\n",
       "      <td>0</td>\n",
       "      <td>NaN</td>\n",
       "      <td>NaN</td>\n",
       "      <td>NaN</td>\n",
       "      <td>NaN</td>\n",
       "      <td>NaN</td>\n",
       "      <td>NaN</td>\n",
       "    </tr>\n",
       "    <tr>\n",
       "      <th>8474</th>\n",
       "      <td>59,633</td>\n",
       "      <td>Charles</td>\n",
       "      <td>808,000</td>\n",
       "      <td>0</td>\n",
       "      <td>808,000</td>\n",
       "      <td>NaN</td>\n",
       "      <td>0</td>\n",
       "      <td>SS2</td>\n",
       "      <td>6191K</td>\n",
       "      <td>NaN</td>\n",
       "      <td>...</td>\n",
       "      <td>NaN</td>\n",
       "      <td>NaN</td>\n",
       "      <td>0</td>\n",
       "      <td>0</td>\n",
       "      <td>NaN</td>\n",
       "      <td>NaN</td>\n",
       "      <td>NaN</td>\n",
       "      <td>NaN</td>\n",
       "      <td>NaN</td>\n",
       "      <td>NaN</td>\n",
       "    </tr>\n",
       "  </tbody>\n",
       "</table>\n",
       "<p>3 rows × 108 columns</p>\n",
       "</div>"
      ],
      "text/plain": [
       "     PrizeValue Contestant      Spin1 Spin2      Total  ev1 Comments Showcase  \\\n",
       "8472     11,485      Colby  1.00Bonus     0  1.00Bonus  NaN        0      SS2   \n",
       "8473     18,487       Toni         20    45         65  NaN        0      SS2   \n",
       "8474     59,633    Charles    808,000     0    808,000  NaN        0      SS2   \n",
       "\n",
       "     urlParam   SO  ... 1,400 Michael 725 Chantel  649 Mark 1,241 Miko 840  \\\n",
       "8472    6191K  NaN  ...   NaN     NaN  80  Spin ►  NaN  NaN   NaN  NaN NaN   \n",
       "8473    6191K  NaN  ...   NaN     NaN   0       0  NaN  NaN   NaN  NaN NaN   \n",
       "8474    6191K  NaN  ...   NaN     NaN   0       0  NaN  NaN   NaN  NaN NaN   \n",
       "\n",
       "      Kimberley  \n",
       "8472        NaN  \n",
       "8473        NaN  \n",
       "8474        NaN  \n",
       "\n",
       "[3 rows x 108 columns]"
      ]
     },
     "execution_count": 37,
     "metadata": {},
     "output_type": "execute_result"
    }
   ],
   "source": [
    "new_showcase.loc[~new_showcase.Chantel.isna()]"
   ]
  },
  {
   "cell_type": "code",
   "execution_count": 39,
   "id": "2332e450",
   "metadata": {},
   "outputs": [
    {
     "data": {
      "text/html": [
       "<div>\n",
       "<style scoped>\n",
       "    .dataframe tbody tr th:only-of-type {\n",
       "        vertical-align: middle;\n",
       "    }\n",
       "\n",
       "    .dataframe tbody tr th {\n",
       "        vertical-align: top;\n",
       "    }\n",
       "\n",
       "    .dataframe thead th {\n",
       "        text-align: right;\n",
       "    }\n",
       "</style>\n",
       "<table border=\"1\" class=\"dataframe\">\n",
       "  <thead>\n",
       "    <tr style=\"text-align: right;\">\n",
       "      <th></th>\n",
       "      <th>PrizeValue</th>\n",
       "      <th>Contestant</th>\n",
       "      <th>Spin1</th>\n",
       "      <th>Spin2</th>\n",
       "      <th>Total</th>\n",
       "      <th>ev1</th>\n",
       "      <th>Comments</th>\n",
       "      <th>Showcase</th>\n",
       "      <th>urlParam</th>\n",
       "      <th>SO</th>\n",
       "      <th>...</th>\n",
       "      <th>55</th>\n",
       "      <th>10</th>\n",
       "      <th>65</th>\n",
       "      <th>4,999</th>\n",
       "      <th>Leonard</th>\n",
       "      <th>85</th>\n",
       "      <th>1,650</th>\n",
       "      <th>Narineh</th>\n",
       "      <th>30</th>\n",
       "      <th>50</th>\n",
       "    </tr>\n",
       "  </thead>\n",
       "  <tbody>\n",
       "    <tr>\n",
       "      <th>0</th>\n",
       "      <td>1,340</td>\n",
       "      <td>Maurice</td>\n",
       "      <td>85</td>\n",
       "      <td>0.0</td>\n",
       "      <td>85</td>\n",
       "      <td>0</td>\n",
       "      <td>NaN</td>\n",
       "      <td>SS1</td>\n",
       "      <td>9782K</td>\n",
       "      <td>NaN</td>\n",
       "      <td>...</td>\n",
       "      <td>NaN</td>\n",
       "      <td>NaN</td>\n",
       "      <td>NaN</td>\n",
       "      <td>NaN</td>\n",
       "      <td>NaN</td>\n",
       "      <td>NaN</td>\n",
       "      <td>NaN</td>\n",
       "      <td>NaN</td>\n",
       "      <td>NaN</td>\n",
       "      <td>NaN</td>\n",
       "    </tr>\n",
       "    <tr>\n",
       "      <th>1</th>\n",
       "      <td>8,531</td>\n",
       "      <td>Kim</td>\n",
       "      <td>1.00</td>\n",
       "      <td>0.0</td>\n",
       "      <td>1.00</td>\n",
       "      <td>50</td>\n",
       "      <td>Bonus Spin ►</td>\n",
       "      <td>SS1</td>\n",
       "      <td>9782K</td>\n",
       "      <td>NaN</td>\n",
       "      <td>...</td>\n",
       "      <td>NaN</td>\n",
       "      <td>NaN</td>\n",
       "      <td>NaN</td>\n",
       "      <td>NaN</td>\n",
       "      <td>NaN</td>\n",
       "      <td>NaN</td>\n",
       "      <td>NaN</td>\n",
       "      <td>NaN</td>\n",
       "      <td>NaN</td>\n",
       "      <td>NaN</td>\n",
       "    </tr>\n",
       "    <tr>\n",
       "      <th>2</th>\n",
       "      <td>25,760</td>\n",
       "      <td>Sandra</td>\n",
       "      <td>20</td>\n",
       "      <td>50.0</td>\n",
       "      <td>70</td>\n",
       "      <td>0</td>\n",
       "      <td>NaN</td>\n",
       "      <td>SS1</td>\n",
       "      <td>9782K</td>\n",
       "      <td>NaN</td>\n",
       "      <td>...</td>\n",
       "      <td>NaN</td>\n",
       "      <td>NaN</td>\n",
       "      <td>NaN</td>\n",
       "      <td>NaN</td>\n",
       "      <td>NaN</td>\n",
       "      <td>NaN</td>\n",
       "      <td>NaN</td>\n",
       "      <td>NaN</td>\n",
       "      <td>NaN</td>\n",
       "      <td>NaN</td>\n",
       "    </tr>\n",
       "  </tbody>\n",
       "</table>\n",
       "<p>3 rows × 45 columns</p>\n",
       "</div>"
      ],
      "text/plain": [
       "  PrizeValue Contestant Spin1  Spin2 Total ev1      Comments Showcase  \\\n",
       "0      1,340    Maurice    85    0.0    85   0           NaN      SS1   \n",
       "1      8,531        Kim  1.00    0.0  1.00  50  Bonus Spin ►      SS1   \n",
       "2     25,760     Sandra    20   50.0    70   0           NaN      SS1   \n",
       "\n",
       "  urlParam   SO  ...  55  10  65 4,999 Leonard  85 1,650  Narineh  30  50  \n",
       "0    9782K  NaN  ... NaN NaN NaN   NaN     NaN NaN   NaN      NaN NaN NaN  \n",
       "1    9782K  NaN  ... NaN NaN NaN   NaN     NaN NaN   NaN      NaN NaN NaN  \n",
       "2    9782K  NaN  ... NaN NaN NaN   NaN     NaN NaN   NaN      NaN NaN NaN  \n",
       "\n",
       "[3 rows x 45 columns]"
      ]
     },
     "execution_count": 39,
     "metadata": {},
     "output_type": "execute_result"
    }
   ],
   "source": [
    "old_file_path = r\"Data\\pir_Content.csv\"\n",
    "old_df = pd.read_csv(old_file_path).drop_duplicates()\n",
    "old_df.head(3)"
   ]
  },
  {
   "cell_type": "code",
   "execution_count": 40,
   "id": "804543e0",
   "metadata": {},
   "outputs": [
    {
     "name": "stdout",
     "output_type": "stream",
     "text": [
      "9730 1668\n"
     ]
    },
    {
     "data": {
      "text/plain": [
       "11398"
      ]
     },
     "execution_count": 40,
     "metadata": {},
     "output_type": "execute_result"
    }
   ],
   "source": [
    "print(len(new_showcase), len(old_df))\n",
    "if len(old_df) > 0:\n",
    "    df = pd.concat([old_df, new_showcase], ignore_index=True)\n",
    "len(df)"
   ]
  },
  {
   "cell_type": "code",
   "execution_count": 9,
   "id": "d0dea6e5",
   "metadata": {},
   "outputs": [
    {
     "data": {
      "text/html": [
       "<div>\n",
       "<style scoped>\n",
       "    .dataframe tbody tr th:only-of-type {\n",
       "        vertical-align: middle;\n",
       "    }\n",
       "\n",
       "    .dataframe tbody tr th {\n",
       "        vertical-align: top;\n",
       "    }\n",
       "\n",
       "    .dataframe thead th {\n",
       "        text-align: right;\n",
       "    }\n",
       "</style>\n",
       "<table border=\"1\" class=\"dataframe\">\n",
       "  <thead>\n",
       "    <tr style=\"text-align: right;\">\n",
       "      <th></th>\n",
       "      <th>SC_ind</th>\n",
       "      <th>PrizeValue</th>\n",
       "      <th>Contestant</th>\n",
       "      <th>Spin1</th>\n",
       "      <th>Spin2</th>\n",
       "      <th>Total</th>\n",
       "      <th>ev1</th>\n",
       "      <th>Comments</th>\n",
       "      <th>Showcase</th>\n",
       "      <th>urlParam</th>\n",
       "      <th>ev2</th>\n",
       "      <th>ev3</th>\n",
       "      <th>ev4</th>\n",
       "    </tr>\n",
       "  </thead>\n",
       "  <tbody>\n",
       "    <tr>\n",
       "      <th>0</th>\n",
       "      <td>1</td>\n",
       "      <td>1,340</td>\n",
       "      <td>Maurice</td>\n",
       "      <td>85</td>\n",
       "      <td>0</td>\n",
       "      <td>85</td>\n",
       "      <td>None</td>\n",
       "      <td>None</td>\n",
       "      <td>SS1</td>\n",
       "      <td>9782K</td>\n",
       "      <td>NaN</td>\n",
       "      <td>NaN</td>\n",
       "      <td>NaN</td>\n",
       "    </tr>\n",
       "    <tr>\n",
       "      <th>1</th>\n",
       "      <td>2</td>\n",
       "      <td>8,531</td>\n",
       "      <td>Kim</td>\n",
       "      <td>1.00</td>\n",
       "      <td>0</td>\n",
       "      <td>1.00</td>\n",
       "      <td>50</td>\n",
       "      <td>Bonus Spin ►</td>\n",
       "      <td>SS1</td>\n",
       "      <td>9782K</td>\n",
       "      <td>NaN</td>\n",
       "      <td>NaN</td>\n",
       "      <td>NaN</td>\n",
       "    </tr>\n",
       "    <tr>\n",
       "      <th>2</th>\n",
       "      <td>3</td>\n",
       "      <td>25,760</td>\n",
       "      <td>Sandra</td>\n",
       "      <td>20</td>\n",
       "      <td>50</td>\n",
       "      <td>70</td>\n",
       "      <td>None</td>\n",
       "      <td>None</td>\n",
       "      <td>SS1</td>\n",
       "      <td>9782K</td>\n",
       "      <td>NaN</td>\n",
       "      <td>NaN</td>\n",
       "      <td>NaN</td>\n",
       "    </tr>\n",
       "  </tbody>\n",
       "</table>\n",
       "</div>"
      ],
      "text/plain": [
       "   SC_ind PrizeValue Contestant Spin1 Spin2 Total   ev1      Comments  \\\n",
       "0       1      1,340    Maurice    85     0    85  None          None   \n",
       "1       2      8,531        Kim  1.00     0  1.00    50  Bonus Spin ►   \n",
       "2       3     25,760     Sandra    20    50    70  None          None   \n",
       "\n",
       "  Showcase urlParam  ev2  ev3  ev4  \n",
       "0      SS1    9782K  NaN  NaN  NaN  \n",
       "1      SS1    9782K  NaN  NaN  NaN  \n",
       "2      SS1    9782K  NaN  NaN  NaN  "
      ]
     },
     "execution_count": 9,
     "metadata": {},
     "output_type": "execute_result"
    }
   ],
   "source": [
    "df = pd.concat(data_showcase, ignore_index=True)\n",
    "df.head(3)"
   ]
  },
  {
   "cell_type": "code",
   "execution_count": 10,
   "id": "600ac239",
   "metadata": {},
   "outputs": [],
   "source": [
    "old_file_path = r\"Data\\pir_Content.csv\"\n",
    "df.to_csv(old_file_path, index=False, header=True)"
   ]
  },
  {
   "cell_type": "markdown",
   "id": "aa1fd193",
   "metadata": {},
   "source": [
    "### Errors"
   ]
  },
  {
   "cell_type": "code",
   "execution_count": 11,
   "id": "a3a1a955",
   "metadata": {},
   "outputs": [
    {
     "data": {
      "text/plain": [
       "(1438, ['https://tpirepguide.com/?p=17628', 'No Contestant lines found'])"
      ]
     },
     "execution_count": 11,
     "metadata": {},
     "output_type": "execute_result"
    }
   ],
   "source": [
    "len(showcase_missing), showcase_missing[0]"
   ]
  },
  {
   "cell_type": "code",
   "execution_count": 12,
   "id": "f52a41ee",
   "metadata": {},
   "outputs": [
    {
     "data": {
      "text/html": [
       "<div>\n",
       "<style scoped>\n",
       "    .dataframe tbody tr th:only-of-type {\n",
       "        vertical-align: middle;\n",
       "    }\n",
       "\n",
       "    .dataframe tbody tr th {\n",
       "        vertical-align: top;\n",
       "    }\n",
       "\n",
       "    .dataframe thead th {\n",
       "        text-align: right;\n",
       "    }\n",
       "</style>\n",
       "<table border=\"1\" class=\"dataframe\">\n",
       "  <thead>\n",
       "    <tr style=\"text-align: right;\">\n",
       "      <th></th>\n",
       "      <th>url</th>\n",
       "      <th>error</th>\n",
       "    </tr>\n",
       "  </thead>\n",
       "  <tbody>\n",
       "    <tr>\n",
       "      <th>0</th>\n",
       "      <td>https://tpirepguide.com/?p=17628</td>\n",
       "      <td>No Contestant lines found</td>\n",
       "    </tr>\n",
       "    <tr>\n",
       "      <th>1</th>\n",
       "      <td>https://tpirepguide.com/?p=17623</td>\n",
       "      <td>No Contestant lines found</td>\n",
       "    </tr>\n",
       "    <tr>\n",
       "      <th>2</th>\n",
       "      <td>https://tpirepguide.com/?p=17129</td>\n",
       "      <td>No Contestant lines found</td>\n",
       "    </tr>\n",
       "    <tr>\n",
       "      <th>3</th>\n",
       "      <td>https://tpirepguide.com/?p=15751</td>\n",
       "      <td>No Contestant lines found</td>\n",
       "    </tr>\n",
       "    <tr>\n",
       "      <th>4</th>\n",
       "      <td>https://tpirepguide.com/?p=15240</td>\n",
       "      <td>No Contestant lines found</td>\n",
       "    </tr>\n",
       "  </tbody>\n",
       "</table>\n",
       "</div>"
      ],
      "text/plain": [
       "                                url                      error\n",
       "0  https://tpirepguide.com/?p=17628  No Contestant lines found\n",
       "1  https://tpirepguide.com/?p=17623  No Contestant lines found\n",
       "2  https://tpirepguide.com/?p=17129  No Contestant lines found\n",
       "3  https://tpirepguide.com/?p=15751  No Contestant lines found\n",
       "4  https://tpirepguide.com/?p=15240  No Contestant lines found"
      ]
     },
     "execution_count": 12,
     "metadata": {},
     "output_type": "execute_result"
    }
   ],
   "source": [
    "df = pd.DataFrame(showcase_missing, columns=['url', 'error'])\n",
    "df.head(5)"
   ]
  },
  {
   "cell_type": "code",
   "execution_count": 13,
   "id": "d4d8fa1d",
   "metadata": {},
   "outputs": [],
   "source": [
    "old_file_path = r\"Data\\pir_ErrorContent.csv\""
   ]
  },
  {
   "cell_type": "code",
   "execution_count": 44,
   "id": "edbff550",
   "metadata": {},
   "outputs": [
    {
     "data": {
      "text/html": [
       "<div>\n",
       "<style scoped>\n",
       "    .dataframe tbody tr th:only-of-type {\n",
       "        vertical-align: middle;\n",
       "    }\n",
       "\n",
       "    .dataframe tbody tr th {\n",
       "        vertical-align: top;\n",
       "    }\n",
       "\n",
       "    .dataframe thead th {\n",
       "        text-align: right;\n",
       "    }\n",
       "</style>\n",
       "<table border=\"1\" class=\"dataframe\">\n",
       "  <thead>\n",
       "    <tr style=\"text-align: right;\">\n",
       "      <th></th>\n",
       "      <th>url</th>\n",
       "      <th>reason</th>\n",
       "    </tr>\n",
       "  </thead>\n",
       "  <tbody>\n",
       "    <tr>\n",
       "      <th>0</th>\n",
       "      <td>https://tpirepguide.com/?p=17715</td>\n",
       "      <td>Extra lines: 8</td>\n",
       "    </tr>\n",
       "    <tr>\n",
       "      <th>1</th>\n",
       "      <td>https://tpirepguide.com/?p=17628</td>\n",
       "      <td>Extra lines: 6</td>\n",
       "    </tr>\n",
       "    <tr>\n",
       "      <th>2</th>\n",
       "      <td>https://tpirepguide.com/?p=17338</td>\n",
       "      <td>Extra lines: 6</td>\n",
       "    </tr>\n",
       "  </tbody>\n",
       "</table>\n",
       "</div>"
      ],
      "text/plain": [
       "                                url          reason\n",
       "0  https://tpirepguide.com/?p=17715  Extra lines: 8\n",
       "1  https://tpirepguide.com/?p=17628  Extra lines: 6\n",
       "2  https://tpirepguide.com/?p=17338  Extra lines: 6"
      ]
     },
     "execution_count": 44,
     "metadata": {},
     "output_type": "execute_result"
    }
   ],
   "source": [
    "old_df = pd.read_csv(old_file_path).drop_duplicates()\n",
    "old_df.head(3)"
   ]
  },
  {
   "cell_type": "code",
   "execution_count": 47,
   "id": "70dc01c0",
   "metadata": {},
   "outputs": [
    {
     "name": "stdout",
     "output_type": "stream",
     "text": [
      "20 7\n"
     ]
    },
    {
     "data": {
      "text/plain": [
       "27"
      ]
     },
     "execution_count": 47,
     "metadata": {},
     "output_type": "execute_result"
    }
   ],
   "source": [
    "print(len(df), len(old_df))\n",
    "if len(old_df) > 0:\n",
    "    df = pd.concat([old_df, df], ignore_index=True)\n",
    "len(df)"
   ]
  },
  {
   "cell_type": "code",
   "execution_count": 14,
   "id": "2ce95c52",
   "metadata": {},
   "outputs": [],
   "source": [
    "df.to_csv(old_file_path, index=False, header=True)"
   ]
  },
  {
   "cell_type": "code",
   "execution_count": null,
   "id": "f001a15a",
   "metadata": {},
   "outputs": [],
   "source": []
  },
  {
   "cell_type": "code",
   "execution_count": null,
   "id": "c13590a0",
   "metadata": {},
   "outputs": [],
   "source": []
  },
  {
   "cell_type": "code",
   "execution_count": null,
   "id": "da3abb8f",
   "metadata": {},
   "outputs": [],
   "source": []
  },
  {
   "cell_type": "code",
   "execution_count": null,
   "id": "cb1161d3",
   "metadata": {},
   "outputs": [],
   "source": []
  },
  {
   "cell_type": "code",
   "execution_count": null,
   "id": "7e8e085c",
   "metadata": {},
   "outputs": [],
   "source": []
  }
 ],
 "metadata": {
  "kernelspec": {
   "display_name": "Python 3",
   "language": "python",
   "name": "python3"
  },
  "language_info": {
   "codemirror_mode": {
    "name": "ipython",
    "version": 3
   },
   "file_extension": ".py",
   "mimetype": "text/x-python",
   "name": "python",
   "nbconvert_exporter": "python",
   "pygments_lexer": "ipython3",
   "version": "3.7.11"
  }
 },
 "nbformat": 4,
 "nbformat_minor": 5
}
