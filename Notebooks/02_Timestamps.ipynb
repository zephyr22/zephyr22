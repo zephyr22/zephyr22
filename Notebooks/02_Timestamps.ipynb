{
 "cells": [
  {
   "cell_type": "code",
   "execution_count": 30,
   "metadata": {},
   "outputs": [],
   "source": [
    "import numpy as np\n",
    "import os\n",
    "import datetime\n",
    "import pandas as pd\n",
    "import random\n",
    "# from tqdm import tqdm\n",
    "from matplotlib import pyplot as plt\n",
    "from pandas.plotting import register_matplotlib_converters\n",
    "register_matplotlib_converters()\n",
    "from sklearn import preprocessing\n",
    "from sklearn import datasets"
   ]
  },
  {
   "cell_type": "markdown",
   "metadata": {},
   "source": [
    "### Date and Time Processing"
   ]
  },
  {
   "cell_type": "code",
   "execution_count": 9,
   "metadata": {},
   "outputs": [],
   "source": [
    "date_strings = np.array(['03-04-2020 11:33:12 PM', '01-12-1994 03:21:22 AM', '22-10-2002 09:48:22 PM'])"
   ]
  },
  {
   "cell_type": "code",
   "execution_count": 10,
   "metadata": {},
   "outputs": [
    {
     "data": {
      "text/plain": [
       "[Timestamp('2020-04-03 23:33:12'),\n",
       " Timestamp('1994-12-01 03:21:22'),\n",
       " Timestamp('2002-10-22 21:48:22')]"
      ]
     },
     "execution_count": 10,
     "metadata": {},
     "output_type": "execute_result"
    }
   ],
   "source": [
    "[pd.to_datetime(d, format='%d-%m-%Y %I:%M:%S %p', errors='coerce') for d in date_strings]"
   ]
  },
  {
   "cell_type": "markdown",
   "metadata": {},
   "source": [
    "### Time Zones"
   ]
  },
  {
   "cell_type": "code",
   "execution_count": 19,
   "metadata": {},
   "outputs": [],
   "source": [
    "from pytz import all_timezones"
   ]
  },
  {
   "cell_type": "code",
   "execution_count": 20,
   "metadata": {},
   "outputs": [
    {
     "data": {
      "text/plain": [
       "(592, ['Africa/Algiers'])"
      ]
     },
     "execution_count": 20,
     "metadata": {},
     "output_type": "execute_result"
    }
   ],
   "source": [
    "len(all_timezones), all_timezones[3:4]"
   ]
  },
  {
   "cell_type": "code",
   "execution_count": 11,
   "metadata": {},
   "outputs": [
    {
     "data": {
      "text/plain": [
       "Timestamp('1992-11-03 22:09:00+0000', tz='Europe/London')"
      ]
     },
     "execution_count": 11,
     "metadata": {},
     "output_type": "execute_result"
    }
   ],
   "source": [
    "pd.Timestamp(\"11-03-1992 10:09 PM\", tz='Europe/London')"
   ]
  },
  {
   "cell_type": "code",
   "execution_count": 13,
   "metadata": {},
   "outputs": [
    {
     "data": {
      "text/plain": [
       "Timestamp('1992-11-03 22:09:00+0000', tz='Europe/London')"
      ]
     },
     "execution_count": 13,
     "metadata": {},
     "output_type": "execute_result"
    }
   ],
   "source": [
    "# Add a timezone\n",
    "london_timestamp = pd.Timestamp(\"11-03-1992 10:09 PM\")\n",
    "london_timestamp = london_timestamp.tz_localize('Europe/London')\n",
    "london_timestamp"
   ]
  },
  {
   "cell_type": "code",
   "execution_count": 15,
   "metadata": {},
   "outputs": [
    {
     "data": {
      "text/plain": [
       "Timestamp('1992-11-03 22:09:00+0000', tz='Africa/Abidjan')"
      ]
     },
     "execution_count": 15,
     "metadata": {},
     "output_type": "execute_result"
    }
   ],
   "source": [
    "# convert to a different one\n",
    "africa_timestamp = london_timestamp.tz_convert('Africa/Abidjan')\n",
    "africa_timestamp"
   ]
  },
  {
   "cell_type": "code",
   "execution_count": 16,
   "metadata": {},
   "outputs": [
    {
     "data": {
      "text/plain": [
       "0   2022-02-28\n",
       "1   2022-03-31\n",
       "2   2022-04-30\n",
       "3   2022-05-31\n",
       "dtype: datetime64[ns]"
      ]
     },
     "execution_count": 16,
     "metadata": {},
     "output_type": "execute_result"
    }
   ],
   "source": [
    "dates_one = pd.Series(pd.date_range('2/2/2022', periods=4, freq='M'))\n",
    "dates_one"
   ]
  },
  {
   "cell_type": "code",
   "execution_count": 17,
   "metadata": {},
   "outputs": [
    {
     "data": {
      "text/plain": [
       "0   2022-02-28 00:00:00+00:00\n",
       "1   2022-03-31 00:00:00+00:00\n",
       "2   2022-04-30 00:00:00+00:00\n",
       "3   2022-05-31 00:00:00+00:00\n",
       "dtype: datetime64[ns, Africa/Abidjan]"
      ]
     },
     "execution_count": 17,
     "metadata": {},
     "output_type": "execute_result"
    }
   ],
   "source": [
    "dates_one.dt.tz_localize('Africa/Abidjan')"
   ]
  },
  {
   "cell_type": "markdown",
   "metadata": {},
   "source": [
    "### Selecting Date Times & Parsing"
   ]
  },
  {
   "cell_type": "code",
   "execution_count": 21,
   "metadata": {},
   "outputs": [
    {
     "data": {
      "text/plain": [
       "33   2022-02-03 09:00:00\n",
       "34   2022-02-03 10:00:00\n",
       "35   2022-02-03 11:00:00\n",
       "dtype: datetime64[ns]"
      ]
     },
     "execution_count": 21,
     "metadata": {},
     "output_type": "execute_result"
    }
   ],
   "source": [
    "dates_two = pd.Series(pd.date_range('2/2/2022', periods=200, freq='H'))\n",
    "dates_two[33:36]"
   ]
  },
  {
   "cell_type": "code",
   "execution_count": 27,
   "metadata": {},
   "outputs": [
    {
     "data": {
      "text/html": [
       "<div>\n",
       "<style scoped>\n",
       "    .dataframe tbody tr th:only-of-type {\n",
       "        vertical-align: middle;\n",
       "    }\n",
       "\n",
       "    .dataframe tbody tr th {\n",
       "        vertical-align: top;\n",
       "    }\n",
       "\n",
       "    .dataframe thead th {\n",
       "        text-align: right;\n",
       "    }\n",
       "</style>\n",
       "<table border=\"1\" class=\"dataframe\">\n",
       "  <thead>\n",
       "    <tr style=\"text-align: right;\">\n",
       "      <th></th>\n",
       "      <th>my_date</th>\n",
       "    </tr>\n",
       "  </thead>\n",
       "  <tbody>\n",
       "    <tr>\n",
       "      <th>0</th>\n",
       "      <td>2022-02-02 00:00:00</td>\n",
       "    </tr>\n",
       "    <tr>\n",
       "      <th>1</th>\n",
       "      <td>2022-02-02 01:00:00</td>\n",
       "    </tr>\n",
       "    <tr>\n",
       "      <th>2</th>\n",
       "      <td>2022-02-02 02:00:00</td>\n",
       "    </tr>\n",
       "  </tbody>\n",
       "</table>\n",
       "</div>"
      ],
      "text/plain": [
       "              my_date\n",
       "0 2022-02-02 00:00:00\n",
       "1 2022-02-02 01:00:00\n",
       "2 2022-02-02 02:00:00"
      ]
     },
     "execution_count": 27,
     "metadata": {},
     "output_type": "execute_result"
    }
   ],
   "source": [
    "# Can set as index\n",
    "df = pd.DataFrame(dates_two, columns=['my_date'])\n",
    "df.head(3)"
   ]
  },
  {
   "cell_type": "code",
   "execution_count": 28,
   "metadata": {},
   "outputs": [
    {
     "data": {
      "text/html": [
       "<div>\n",
       "<style scoped>\n",
       "    .dataframe tbody tr th:only-of-type {\n",
       "        vertical-align: middle;\n",
       "    }\n",
       "\n",
       "    .dataframe tbody tr th {\n",
       "        vertical-align: top;\n",
       "    }\n",
       "\n",
       "    .dataframe thead th {\n",
       "        text-align: right;\n",
       "    }\n",
       "</style>\n",
       "<table border=\"1\" class=\"dataframe\">\n",
       "  <thead>\n",
       "    <tr style=\"text-align: right;\">\n",
       "      <th></th>\n",
       "      <th>my_date</th>\n",
       "    </tr>\n",
       "    <tr>\n",
       "      <th>my_date</th>\n",
       "      <th></th>\n",
       "    </tr>\n",
       "  </thead>\n",
       "  <tbody>\n",
       "    <tr>\n",
       "      <th>2022-02-02 00:00:00</th>\n",
       "      <td>2022-02-02 00:00:00</td>\n",
       "    </tr>\n",
       "    <tr>\n",
       "      <th>2022-02-02 01:00:00</th>\n",
       "      <td>2022-02-02 01:00:00</td>\n",
       "    </tr>\n",
       "    <tr>\n",
       "      <th>2022-02-02 02:00:00</th>\n",
       "      <td>2022-02-02 02:00:00</td>\n",
       "    </tr>\n",
       "  </tbody>\n",
       "</table>\n",
       "</div>"
      ],
      "text/plain": [
       "                                my_date\n",
       "my_date                                \n",
       "2022-02-02 00:00:00 2022-02-02 00:00:00\n",
       "2022-02-02 01:00:00 2022-02-02 01:00:00\n",
       "2022-02-02 02:00:00 2022-02-02 02:00:00"
      ]
     },
     "execution_count": 28,
     "metadata": {},
     "output_type": "execute_result"
    }
   ],
   "source": [
    "df = df.set_index(df['my_date'])\n",
    "df.head(3)"
   ]
  },
  {
   "cell_type": "code",
   "execution_count": 29,
   "metadata": {},
   "outputs": [
    {
     "data": {
      "text/html": [
       "<div>\n",
       "<style scoped>\n",
       "    .dataframe tbody tr th:only-of-type {\n",
       "        vertical-align: middle;\n",
       "    }\n",
       "\n",
       "    .dataframe tbody tr th {\n",
       "        vertical-align: top;\n",
       "    }\n",
       "\n",
       "    .dataframe thead th {\n",
       "        text-align: right;\n",
       "    }\n",
       "</style>\n",
       "<table border=\"1\" class=\"dataframe\">\n",
       "  <thead>\n",
       "    <tr style=\"text-align: right;\">\n",
       "      <th></th>\n",
       "      <th>my_date</th>\n",
       "      <th>year</th>\n",
       "      <th>month</th>\n",
       "      <th>day</th>\n",
       "      <th>hour</th>\n",
       "      <th>minute</th>\n",
       "    </tr>\n",
       "  </thead>\n",
       "  <tbody>\n",
       "    <tr>\n",
       "      <th>0</th>\n",
       "      <td>2022-02-02 00:00:00</td>\n",
       "      <td>2022</td>\n",
       "      <td>2</td>\n",
       "      <td>2</td>\n",
       "      <td>0</td>\n",
       "      <td>0</td>\n",
       "    </tr>\n",
       "    <tr>\n",
       "      <th>1</th>\n",
       "      <td>2022-02-02 01:00:00</td>\n",
       "      <td>2022</td>\n",
       "      <td>2</td>\n",
       "      <td>2</td>\n",
       "      <td>1</td>\n",
       "      <td>0</td>\n",
       "    </tr>\n",
       "    <tr>\n",
       "      <th>2</th>\n",
       "      <td>2022-02-02 02:00:00</td>\n",
       "      <td>2022</td>\n",
       "      <td>2</td>\n",
       "      <td>2</td>\n",
       "      <td>2</td>\n",
       "      <td>0</td>\n",
       "    </tr>\n",
       "  </tbody>\n",
       "</table>\n",
       "</div>"
      ],
      "text/plain": [
       "              my_date  year  month  day  hour  minute\n",
       "0 2022-02-02 00:00:00  2022      2    2     0       0\n",
       "1 2022-02-02 01:00:00  2022      2    2     1       0\n",
       "2 2022-02-02 02:00:00  2022      2    2     2       0"
      ]
     },
     "execution_count": 29,
     "metadata": {},
     "output_type": "execute_result"
    }
   ],
   "source": [
    "df = pd.DataFrame(dates_two, columns=['my_date'])\n",
    "df['year'] = df['my_date'].dt.year\n",
    "df['month'] = df['my_date'].dt.month\n",
    "df['day'] = df['my_date'].dt.day\n",
    "df['hour'] = df['my_date'].dt.hour\n",
    "df['minute'] = df['my_date'].dt.minute\n",
    "df.head(3)"
   ]
  },
  {
   "cell_type": "markdown",
   "metadata": {},
   "source": [
    "### Rolling Window Calculations"
   ]
  },
  {
   "cell_type": "code",
   "execution_count": 36,
   "metadata": {},
   "outputs": [
    {
     "data": {
      "text/html": [
       "<div>\n",
       "<style scoped>\n",
       "    .dataframe tbody tr th:only-of-type {\n",
       "        vertical-align: middle;\n",
       "    }\n",
       "\n",
       "    .dataframe tbody tr th {\n",
       "        vertical-align: top;\n",
       "    }\n",
       "\n",
       "    .dataframe thead th {\n",
       "        text-align: right;\n",
       "    }\n",
       "</style>\n",
       "<table border=\"1\" class=\"dataframe\">\n",
       "  <thead>\n",
       "    <tr style=\"text-align: right;\">\n",
       "      <th></th>\n",
       "      <th>my_date</th>\n",
       "      <th>year</th>\n",
       "      <th>month</th>\n",
       "      <th>day</th>\n",
       "      <th>hour</th>\n",
       "      <th>minute</th>\n",
       "      <th>price</th>\n",
       "    </tr>\n",
       "  </thead>\n",
       "  <tbody>\n",
       "    <tr>\n",
       "      <th>0</th>\n",
       "      <td>2022-02-02 00:00:00</td>\n",
       "      <td>2022</td>\n",
       "      <td>2</td>\n",
       "      <td>2</td>\n",
       "      <td>0</td>\n",
       "      <td>0</td>\n",
       "      <td>8</td>\n",
       "    </tr>\n",
       "    <tr>\n",
       "      <th>1</th>\n",
       "      <td>2022-02-02 01:00:00</td>\n",
       "      <td>2022</td>\n",
       "      <td>2</td>\n",
       "      <td>2</td>\n",
       "      <td>1</td>\n",
       "      <td>0</td>\n",
       "      <td>4</td>\n",
       "    </tr>\n",
       "    <tr>\n",
       "      <th>2</th>\n",
       "      <td>2022-02-02 02:00:00</td>\n",
       "      <td>2022</td>\n",
       "      <td>2</td>\n",
       "      <td>2</td>\n",
       "      <td>2</td>\n",
       "      <td>0</td>\n",
       "      <td>4</td>\n",
       "    </tr>\n",
       "  </tbody>\n",
       "</table>\n",
       "</div>"
      ],
      "text/plain": [
       "              my_date  year  month  day  hour  minute  price\n",
       "0 2022-02-02 00:00:00  2022      2    2     0       0      8\n",
       "1 2022-02-02 01:00:00  2022      2    2     1       0      4\n",
       "2 2022-02-02 02:00:00  2022      2    2     2       0      4"
      ]
     },
     "execution_count": 36,
     "metadata": {},
     "output_type": "execute_result"
    }
   ],
   "source": [
    "df['price'] = random.choices([1, 4, 3, 8], k=len(df))\n",
    "df.head(3)"
   ]
  },
  {
   "cell_type": "code",
   "execution_count": 37,
   "metadata": {},
   "outputs": [
    {
     "data": {
      "text/html": [
       "<div>\n",
       "<style scoped>\n",
       "    .dataframe tbody tr th:only-of-type {\n",
       "        vertical-align: middle;\n",
       "    }\n",
       "\n",
       "    .dataframe tbody tr th {\n",
       "        vertical-align: top;\n",
       "    }\n",
       "\n",
       "    .dataframe thead th {\n",
       "        text-align: right;\n",
       "    }\n",
       "</style>\n",
       "<table border=\"1\" class=\"dataframe\">\n",
       "  <thead>\n",
       "    <tr style=\"text-align: right;\">\n",
       "      <th></th>\n",
       "      <th>my_date</th>\n",
       "      <th>year</th>\n",
       "      <th>month</th>\n",
       "      <th>day</th>\n",
       "      <th>hour</th>\n",
       "      <th>minute</th>\n",
       "      <th>price</th>\n",
       "      <th>RollPrice</th>\n",
       "    </tr>\n",
       "  </thead>\n",
       "  <tbody>\n",
       "    <tr>\n",
       "      <th>12</th>\n",
       "      <td>2022-02-02 12:00:00</td>\n",
       "      <td>2022</td>\n",
       "      <td>2</td>\n",
       "      <td>2</td>\n",
       "      <td>12</td>\n",
       "      <td>0</td>\n",
       "      <td>3</td>\n",
       "      <td>2.2</td>\n",
       "    </tr>\n",
       "    <tr>\n",
       "      <th>13</th>\n",
       "      <td>2022-02-02 13:00:00</td>\n",
       "      <td>2022</td>\n",
       "      <td>2</td>\n",
       "      <td>2</td>\n",
       "      <td>13</td>\n",
       "      <td>0</td>\n",
       "      <td>1</td>\n",
       "      <td>1.8</td>\n",
       "    </tr>\n",
       "    <tr>\n",
       "      <th>14</th>\n",
       "      <td>2022-02-02 14:00:00</td>\n",
       "      <td>2022</td>\n",
       "      <td>2</td>\n",
       "      <td>2</td>\n",
       "      <td>14</td>\n",
       "      <td>0</td>\n",
       "      <td>8</td>\n",
       "      <td>3.2</td>\n",
       "    </tr>\n",
       "    <tr>\n",
       "      <th>15</th>\n",
       "      <td>2022-02-02 15:00:00</td>\n",
       "      <td>2022</td>\n",
       "      <td>2</td>\n",
       "      <td>2</td>\n",
       "      <td>15</td>\n",
       "      <td>0</td>\n",
       "      <td>1</td>\n",
       "      <td>3.2</td>\n",
       "    </tr>\n",
       "  </tbody>\n",
       "</table>\n",
       "</div>"
      ],
      "text/plain": [
       "               my_date  year  month  day  hour  minute  price  RollPrice\n",
       "12 2022-02-02 12:00:00  2022      2    2    12       0      3        2.2\n",
       "13 2022-02-02 13:00:00  2022      2    2    13       0      1        1.8\n",
       "14 2022-02-02 14:00:00  2022      2    2    14       0      8        3.2\n",
       "15 2022-02-02 15:00:00  2022      2    2    15       0      1        3.2"
      ]
     },
     "execution_count": 37,
     "metadata": {},
     "output_type": "execute_result"
    }
   ],
   "source": [
    "df['RollPrice'] = df.price.rolling(window=5, min_periods=2).mean()\n",
    "df.iloc[12:16]"
   ]
  },
  {
   "cell_type": "markdown",
   "metadata": {},
   "source": [
    "### Fill in gaps\n",
    "- interpolate\n",
    "- bfill\n",
    "- ffill"
   ]
  },
  {
   "cell_type": "code",
   "execution_count": 39,
   "metadata": {},
   "outputs": [
    {
     "name": "stdout",
     "output_type": "stream",
     "text": [
      "Help on method interpolate in module pandas.core.generic:\n",
      "\n",
      "interpolate(method='linear', axis=0, limit=None, inplace=False, limit_direction='forward', limit_area=None, downcast=None, **kwargs) method of pandas.core.frame.DataFrame instance\n",
      "    Interpolate values according to different methods.\n",
      "    \n",
      "    Please note that only ``method='linear'`` is supported for\n",
      "    DataFrame/Series with a MultiIndex.\n",
      "    \n",
      "    Parameters\n",
      "    ----------\n",
      "    method : str, default 'linear'\n",
      "        Interpolation technique to use. One of:\n",
      "    \n",
      "        * 'linear': Ignore the index and treat the values as equally\n",
      "          spaced. This is the only method supported on MultiIndexes.\n",
      "        * 'time': Works on daily and higher resolution data to interpolate\n",
      "          given length of interval.\n",
      "        * 'index', 'values': use the actual numerical values of the index.\n",
      "        * 'pad': Fill in NaNs using existing values.\n",
      "        * 'nearest', 'zero', 'slinear', 'quadratic', 'cubic', 'spline',\n",
      "          'barycentric', 'polynomial': Passed to\n",
      "          `scipy.interpolate.interp1d`. Both 'polynomial' and 'spline'\n",
      "          require that you also specify an `order` (int),\n",
      "          e.g. ``df.interpolate(method='polynomial', order=4)``.\n",
      "          These use the numerical values of the index.\n",
      "        * 'krogh', 'piecewise_polynomial', 'spline', 'pchip', 'akima':\n",
      "          Wrappers around the SciPy interpolation methods of similar\n",
      "          names. See `Notes`.\n",
      "        * 'from_derivatives': Refers to\n",
      "          `scipy.interpolate.BPoly.from_derivatives` which\n",
      "          replaces 'piecewise_polynomial' interpolation method in\n",
      "          scipy 0.18.\n",
      "    \n",
      "        .. versionadded:: 0.18.1\n",
      "    \n",
      "           Added support for the 'akima' method.\n",
      "           Added interpolate method 'from_derivatives' which replaces\n",
      "           'piecewise_polynomial' in SciPy 0.18; backwards-compatible with\n",
      "           SciPy < 0.18\n",
      "    \n",
      "    axis : {0 or 'index', 1 or 'columns', None}, default None\n",
      "        Axis to interpolate along.\n",
      "    limit : int, optional\n",
      "        Maximum number of consecutive NaNs to fill. Must be greater than\n",
      "        0.\n",
      "    inplace : bool, default False\n",
      "        Update the data in place if possible.\n",
      "    limit_direction : {'forward', 'backward', 'both'}, default 'forward'\n",
      "        If limit is specified, consecutive NaNs will be filled in this\n",
      "        direction.\n",
      "    limit_area : {`None`, 'inside', 'outside'}, default None\n",
      "        If limit is specified, consecutive NaNs will be filled with this\n",
      "        restriction.\n",
      "    \n",
      "        * ``None``: No fill restriction.\n",
      "        * 'inside': Only fill NaNs surrounded by valid values\n",
      "          (interpolate).\n",
      "        * 'outside': Only fill NaNs outside valid values (extrapolate).\n",
      "    \n",
      "        .. versionadded:: 0.21.0\n",
      "    \n",
      "    downcast : optional, 'infer' or None, defaults to None\n",
      "        Downcast dtypes if possible.\n",
      "    **kwargs\n",
      "        Keyword arguments to pass on to the interpolating function.\n",
      "    \n",
      "    Returns\n",
      "    -------\n",
      "    Series or DataFrame\n",
      "        Returns the same object type as the caller, interpolated at\n",
      "        some or all ``NaN`` values\n",
      "    \n",
      "    See Also\n",
      "    --------\n",
      "    fillna : Fill missing values using different methods.\n",
      "    scipy.interpolate.Akima1DInterpolator : Piecewise cubic polynomials\n",
      "        (Akima interpolator).\n",
      "    scipy.interpolate.BPoly.from_derivatives : Piecewise polynomial in the\n",
      "        Bernstein basis.\n",
      "    scipy.interpolate.interp1d : Interpolate a 1-D function.\n",
      "    scipy.interpolate.KroghInterpolator : Interpolate polynomial (Krogh\n",
      "        interpolator).\n",
      "    scipy.interpolate.PchipInterpolator : PCHIP 1-d monotonic cubic\n",
      "        interpolation.\n",
      "    scipy.interpolate.CubicSpline : Cubic spline data interpolator.\n",
      "    \n",
      "    Notes\n",
      "    -----\n",
      "    The 'krogh', 'piecewise_polynomial', 'spline', 'pchip' and 'akima'\n",
      "    methods are wrappers around the respective SciPy implementations of\n",
      "    similar names. These use the actual numerical values of the index.\n",
      "    For more information on their behavior, see the\n",
      "    `SciPy documentation\n",
      "    <http://docs.scipy.org/doc/scipy/reference/interpolate.html#univariate-interpolation>`__\n",
      "    and `SciPy tutorial\n",
      "    <http://docs.scipy.org/doc/scipy/reference/tutorial/interpolate.html>`__.\n",
      "    \n",
      "    Examples\n",
      "    --------\n",
      "    Filling in ``NaN`` in a :class:`~pandas.Series` via linear\n",
      "    interpolation.\n",
      "    \n",
      "    >>> s = pd.Series([0, 1, np.nan, 3])\n",
      "    >>> s\n",
      "    0    0.0\n",
      "    1    1.0\n",
      "    2    NaN\n",
      "    3    3.0\n",
      "    dtype: float64\n",
      "    >>> s.interpolate()\n",
      "    0    0.0\n",
      "    1    1.0\n",
      "    2    2.0\n",
      "    3    3.0\n",
      "    dtype: float64\n",
      "    \n",
      "    Filling in ``NaN`` in a Series by padding, but filling at most two\n",
      "    consecutive ``NaN`` at a time.\n",
      "    \n",
      "    >>> s = pd.Series([np.nan, \"single_one\", np.nan,\n",
      "    ...                \"fill_two_more\", np.nan, np.nan, np.nan,\n",
      "    ...                4.71, np.nan])\n",
      "    >>> s\n",
      "    0              NaN\n",
      "    1       single_one\n",
      "    2              NaN\n",
      "    3    fill_two_more\n",
      "    4              NaN\n",
      "    5              NaN\n",
      "    6              NaN\n",
      "    7             4.71\n",
      "    8              NaN\n",
      "    dtype: object\n",
      "    >>> s.interpolate(method='pad', limit=2)\n",
      "    0              NaN\n",
      "    1       single_one\n",
      "    2       single_one\n",
      "    3    fill_two_more\n",
      "    4    fill_two_more\n",
      "    5    fill_two_more\n",
      "    6              NaN\n",
      "    7             4.71\n",
      "    8             4.71\n",
      "    dtype: object\n",
      "    \n",
      "    Filling in ``NaN`` in a Series via polynomial interpolation or splines:\n",
      "    Both 'polynomial' and 'spline' methods require that you also specify\n",
      "    an ``order`` (int).\n",
      "    \n",
      "    >>> s = pd.Series([0, 2, np.nan, 8])\n",
      "    >>> s.interpolate(method='polynomial', order=2)\n",
      "    0    0.000000\n",
      "    1    2.000000\n",
      "    2    4.666667\n",
      "    3    8.000000\n",
      "    dtype: float64\n",
      "    \n",
      "    Fill the DataFrame forward (that is, going down) along each column\n",
      "    using linear interpolation.\n",
      "    \n",
      "    Note how the last entry in column 'a' is interpolated differently,\n",
      "    because there is no entry after it to use for interpolation.\n",
      "    Note how the first entry in column 'b' remains ``NaN``, because there\n",
      "    is no entry befofe it to use for interpolation.\n",
      "    \n",
      "    >>> df = pd.DataFrame([(0.0,  np.nan, -1.0, 1.0),\n",
      "    ...                    (np.nan, 2.0, np.nan, np.nan),\n",
      "    ...                    (2.0, 3.0, np.nan, 9.0),\n",
      "    ...                    (np.nan, 4.0, -4.0, 16.0)],\n",
      "    ...                   columns=list('abcd'))\n",
      "    >>> df\n",
      "         a    b    c     d\n",
      "    0  0.0  NaN -1.0   1.0\n",
      "    1  NaN  2.0  NaN   NaN\n",
      "    2  2.0  3.0  NaN   9.0\n",
      "    3  NaN  4.0 -4.0  16.0\n",
      "    >>> df.interpolate(method='linear', limit_direction='forward', axis=0)\n",
      "         a    b    c     d\n",
      "    0  0.0  NaN -1.0   1.0\n",
      "    1  1.0  2.0 -2.0   5.0\n",
      "    2  2.0  3.0 -3.0   9.0\n",
      "    3  2.0  4.0 -4.0  16.0\n",
      "    \n",
      "    Using polynomial interpolation.\n",
      "    \n",
      "    >>> df['d'].interpolate(method='polynomial', order=2)\n",
      "    0     1.0\n",
      "    1     4.0\n",
      "    2     9.0\n",
      "    3    16.0\n",
      "    Name: d, dtype: float64\n",
      "\n"
     ]
    }
   ],
   "source": [
    "# limit: how many NaN's in a roww to fill\n",
    "# Limit_direction: consecutive NaNs will be filled in this direction\n",
    "help(df.interpolate)"
   ]
  },
  {
   "cell_type": "code",
   "execution_count": null,
   "metadata": {},
   "outputs": [],
   "source": []
  }
 ],
 "metadata": {
  "kernelspec": {
   "display_name": "Python 3",
   "language": "python",
   "name": "python3"
  },
  "language_info": {
   "codemirror_mode": {
    "name": "ipython",
    "version": 3
   },
   "file_extension": ".py",
   "mimetype": "text/x-python",
   "name": "python",
   "nbconvert_exporter": "python",
   "pygments_lexer": "ipython3",
   "version": "3.6.8"
  }
 },
 "nbformat": 4,
 "nbformat_minor": 2
}
