{
 "cells": [
  {
   "cell_type": "code",
   "execution_count": 3,
   "metadata": {},
   "outputs": [],
   "source": [
    "import numpy as np\n",
    "import os\n",
    "import datetime\n",
    "import pandas as pd\n",
    "# from tqdm import tqdm\n",
    "from matplotlib import pyplot as plt\n",
    "from pandas.plotting import register_matplotlib_converters\n",
    "register_matplotlib_converters()\n",
    "from sklearn import preprocessing\n",
    "from sklearn import datasets"
   ]
  },
  {
   "cell_type": "markdown",
   "metadata": {},
   "source": [
    "### Generate DataSets"
   ]
  },
  {
   "cell_type": "code",
   "execution_count": 11,
   "metadata": {},
   "outputs": [
    {
     "data": {
      "text/html": [
       "<div>\n",
       "<style scoped>\n",
       "    .dataframe tbody tr th:only-of-type {\n",
       "        vertical-align: middle;\n",
       "    }\n",
       "\n",
       "    .dataframe tbody tr th {\n",
       "        vertical-align: top;\n",
       "    }\n",
       "\n",
       "    .dataframe thead th {\n",
       "        text-align: right;\n",
       "    }\n",
       "</style>\n",
       "<table border=\"1\" class=\"dataframe\">\n",
       "  <thead>\n",
       "    <tr style=\"text-align: right;\">\n",
       "      <th></th>\n",
       "      <th>f1</th>\n",
       "      <th>f2</th>\n",
       "      <th>f3</th>\n",
       "      <th>f4</th>\n",
       "      <th>f5</th>\n",
       "      <th>f6</th>\n",
       "      <th>target</th>\n",
       "    </tr>\n",
       "  </thead>\n",
       "  <tbody>\n",
       "    <tr>\n",
       "      <th>0</th>\n",
       "      <td>-0.477218</td>\n",
       "      <td>-0.043818</td>\n",
       "      <td>-1.313865</td>\n",
       "      <td>0.884622</td>\n",
       "      <td>-0.082741</td>\n",
       "      <td>-0.627001</td>\n",
       "      <td>-151.384791</td>\n",
       "    </tr>\n",
       "    <tr>\n",
       "      <th>1</th>\n",
       "      <td>0.708729</td>\n",
       "      <td>0.378728</td>\n",
       "      <td>-0.340076</td>\n",
       "      <td>-0.057615</td>\n",
       "      <td>-1.010014</td>\n",
       "      <td>0.755237</td>\n",
       "      <td>44.779894</td>\n",
       "    </tr>\n",
       "    <tr>\n",
       "      <th>2</th>\n",
       "      <td>-0.137441</td>\n",
       "      <td>-0.342813</td>\n",
       "      <td>-0.440835</td>\n",
       "      <td>1.103920</td>\n",
       "      <td>-0.267193</td>\n",
       "      <td>2.050345</td>\n",
       "      <td>191.615494</td>\n",
       "    </tr>\n",
       "  </tbody>\n",
       "</table>\n",
       "</div>"
      ],
      "text/plain": [
       "         f1        f2        f3        f4        f5        f6      target\n",
       "0 -0.477218 -0.043818 -1.313865  0.884622 -0.082741 -0.627001 -151.384791\n",
       "1  0.708729  0.378728 -0.340076 -0.057615 -1.010014  0.755237   44.779894\n",
       "2 -0.137441 -0.342813 -0.440835  1.103920 -0.267193  2.050345  191.615494"
      ]
     },
     "execution_count": 11,
     "metadata": {},
     "output_type": "execute_result"
    }
   ],
   "source": [
    "# generate features matrix, target vector, and the true coefficients\n",
    "features, target, coefficients = datasets.make_regression(n_samples=400, n_features=6, n_informative=6, n_targets=1,\n",
    "                                                         noise=0.0, coef=True,random_state=3)\n",
    "features = pd.DataFrame(features, columns=['f1', 'f2', 'f3', 'f4', 'f5', 'f6'])\n",
    "features['target'] = target\n",
    "features.head(3)"
   ]
  },
  {
   "cell_type": "code",
   "execution_count": 10,
   "metadata": {},
   "outputs": [
    {
     "data": {
      "text/html": [
       "<div>\n",
       "<style scoped>\n",
       "    .dataframe tbody tr th:only-of-type {\n",
       "        vertical-align: middle;\n",
       "    }\n",
       "\n",
       "    .dataframe tbody tr th {\n",
       "        vertical-align: top;\n",
       "    }\n",
       "\n",
       "    .dataframe thead th {\n",
       "        text-align: right;\n",
       "    }\n",
       "</style>\n",
       "<table border=\"1\" class=\"dataframe\">\n",
       "  <thead>\n",
       "    <tr style=\"text-align: right;\">\n",
       "      <th></th>\n",
       "      <th>f1</th>\n",
       "      <th>f2</th>\n",
       "      <th>f3</th>\n",
       "      <th>f4</th>\n",
       "      <th>f5</th>\n",
       "      <th>f6</th>\n",
       "      <th>Target</th>\n",
       "    </tr>\n",
       "  </thead>\n",
       "  <tbody>\n",
       "    <tr>\n",
       "      <th>0</th>\n",
       "      <td>0.913812</td>\n",
       "      <td>1.710292</td>\n",
       "      <td>1.296374</td>\n",
       "      <td>-1.371327</td>\n",
       "      <td>-0.053150</td>\n",
       "      <td>0.187272</td>\n",
       "      <td>2</td>\n",
       "    </tr>\n",
       "    <tr>\n",
       "      <th>1</th>\n",
       "      <td>-0.409279</td>\n",
       "      <td>2.442136</td>\n",
       "      <td>0.883636</td>\n",
       "      <td>-1.304998</td>\n",
       "      <td>-0.980046</td>\n",
       "      <td>0.633240</td>\n",
       "      <td>0</td>\n",
       "    </tr>\n",
       "    <tr>\n",
       "      <th>2</th>\n",
       "      <td>-2.588178</td>\n",
       "      <td>-1.902312</td>\n",
       "      <td>-3.774491</td>\n",
       "      <td>-1.611354</td>\n",
       "      <td>1.793390</td>\n",
       "      <td>1.440196</td>\n",
       "      <td>1</td>\n",
       "    </tr>\n",
       "  </tbody>\n",
       "</table>\n",
       "</div>"
      ],
      "text/plain": [
       "         f1        f2        f3        f4        f5        f6  Target\n",
       "0  0.913812  1.710292  1.296374 -1.371327 -0.053150  0.187272       2\n",
       "1 -0.409279  2.442136  0.883636 -1.304998 -0.980046  0.633240       0\n",
       "2 -2.588178 -1.902312 -3.774491 -1.611354  1.793390  1.440196       1"
      ]
     },
     "execution_count": 10,
     "metadata": {},
     "output_type": "execute_result"
    }
   ],
   "source": [
    "# generate features matrix, target vector\n",
    "cl_features, cl_target = datasets.make_classification(n_samples=400, n_features=6, n_informative=6, n_redundant=0,\n",
    "                                                      n_classes=3, weights=[0.25, 0.35, 0.4], random_state=3)\n",
    "cl_features = pd.DataFrame(cl_features, columns=['f1', 'f2', 'f3', 'f4', 'f5', 'f6'])\n",
    "cl_features['Target'] = cl_target\n",
    "cl_features.head(3)"
   ]
  },
  {
   "cell_type": "code",
   "execution_count": 30,
   "metadata": {},
   "outputs": [
    {
     "data": {
      "text/html": [
       "<div>\n",
       "<style scoped>\n",
       "    .dataframe tbody tr th:only-of-type {\n",
       "        vertical-align: middle;\n",
       "    }\n",
       "\n",
       "    .dataframe tbody tr th {\n",
       "        vertical-align: top;\n",
       "    }\n",
       "\n",
       "    .dataframe thead th {\n",
       "        text-align: right;\n",
       "    }\n",
       "</style>\n",
       "<table border=\"1\" class=\"dataframe\">\n",
       "  <thead>\n",
       "    <tr style=\"text-align: right;\">\n",
       "      <th></th>\n",
       "      <th>f1</th>\n",
       "      <th>f2</th>\n",
       "      <th>Target</th>\n",
       "    </tr>\n",
       "  </thead>\n",
       "  <tbody>\n",
       "    <tr>\n",
       "      <th>0</th>\n",
       "      <td>-5.848155</td>\n",
       "      <td>-3.158641</td>\n",
       "      <td>3</td>\n",
       "    </tr>\n",
       "    <tr>\n",
       "      <th>1</th>\n",
       "      <td>-10.246819</td>\n",
       "      <td>-4.108841</td>\n",
       "      <td>1</td>\n",
       "    </tr>\n",
       "    <tr>\n",
       "      <th>2</th>\n",
       "      <td>-6.189861</td>\n",
       "      <td>-3.670789</td>\n",
       "      <td>3</td>\n",
       "    </tr>\n",
       "  </tbody>\n",
       "</table>\n",
       "</div>"
      ],
      "text/plain": [
       "          f1        f2  Target\n",
       "0  -5.848155 -3.158641       3\n",
       "1 -10.246819 -4.108841       1\n",
       "2  -6.189861 -3.670789       3"
      ]
     },
     "execution_count": 30,
     "metadata": {},
     "output_type": "execute_result"
    }
   ],
   "source": [
    "# generate feature matrix and target vector for clustering\n",
    "bl_features, bl_target = datasets.make_blobs(n_samples=400, n_features=2, centers=5, cluster_std=0.5, shuffle=True,\n",
    "                                            random_state=1)\n",
    "bl_features = pd.DataFrame(bl_features, columns=['f1', 'f2'])\n",
    "bl_features['Target'] = bl_target\n",
    "bl_features.head(3)"
   ]
  },
  {
   "cell_type": "code",
   "execution_count": 31,
   "metadata": {},
   "outputs": [
    {
     "data": {
      "image/png": "[encoded data removed]",
      "text/plain": [
       "<Figure size 864x432 with 1 Axes>"
      ]
     },
     "metadata": {
      "needs_background": "light"
     },
     "output_type": "display_data"
    }
   ],
   "source": [
    "plt.figure(figsize=(12, 6))\n",
    "plt.title(\"Blob Clusters\")\n",
    "plt.scatter(bl_features['f1'], bl_features['f2'], c=bl_target)\n",
    "plt.ylabel(\"Feature Two\")\n",
    "plt.xlabel(\"Feature One\")\n",
    "plt.grid()\n",
    "plt.show()"
   ]
  },
  {
   "cell_type": "markdown",
   "metadata": {},
   "source": [
    "### Numerical Data\n",
    "Scaling: PCA usually Standardization, NN ususally MinMax"
   ]
  },
  {
   "cell_type": "code",
   "execution_count": 40,
   "metadata": {},
   "outputs": [
    {
     "data": {
      "text/html": [
       "<div>\n",
       "<style scoped>\n",
       "    .dataframe tbody tr th:only-of-type {\n",
       "        vertical-align: middle;\n",
       "    }\n",
       "\n",
       "    .dataframe tbody tr th {\n",
       "        vertical-align: top;\n",
       "    }\n",
       "\n",
       "    .dataframe thead th {\n",
       "        text-align: right;\n",
       "    }\n",
       "</style>\n",
       "<table border=\"1\" class=\"dataframe\">\n",
       "  <thead>\n",
       "    <tr style=\"text-align: right;\">\n",
       "      <th></th>\n",
       "      <th>f1</th>\n",
       "      <th>f2</th>\n",
       "      <th>f3</th>\n",
       "      <th>f4</th>\n",
       "      <th>f5</th>\n",
       "      <th>f6</th>\n",
       "      <th>target</th>\n",
       "      <th>f1_scale</th>\n",
       "    </tr>\n",
       "  </thead>\n",
       "  <tbody>\n",
       "    <tr>\n",
       "      <th>0</th>\n",
       "      <td>-0.477218</td>\n",
       "      <td>-0.043818</td>\n",
       "      <td>-1.313865</td>\n",
       "      <td>0.884622</td>\n",
       "      <td>-0.082741</td>\n",
       "      <td>-0.627001</td>\n",
       "      <td>-151.384791</td>\n",
       "      <td>0.431844</td>\n",
       "    </tr>\n",
       "    <tr>\n",
       "      <th>1</th>\n",
       "      <td>0.708729</td>\n",
       "      <td>0.378728</td>\n",
       "      <td>-0.340076</td>\n",
       "      <td>-0.057615</td>\n",
       "      <td>-1.010014</td>\n",
       "      <td>0.755237</td>\n",
       "      <td>44.779894</td>\n",
       "      <td>0.673084</td>\n",
       "    </tr>\n",
       "    <tr>\n",
       "      <th>2</th>\n",
       "      <td>-0.137441</td>\n",
       "      <td>-0.342813</td>\n",
       "      <td>-0.440835</td>\n",
       "      <td>1.103920</td>\n",
       "      <td>-0.267193</td>\n",
       "      <td>2.050345</td>\n",
       "      <td>191.615494</td>\n",
       "      <td>0.500960</td>\n",
       "    </tr>\n",
       "  </tbody>\n",
       "</table>\n",
       "</div>"
      ],
      "text/plain": [
       "         f1        f2        f3        f4        f5        f6      target  \\\n",
       "0 -0.477218 -0.043818 -1.313865  0.884622 -0.082741 -0.627001 -151.384791   \n",
       "1  0.708729  0.378728 -0.340076 -0.057615 -1.010014  0.755237   44.779894   \n",
       "2 -0.137441 -0.342813 -0.440835  1.103920 -0.267193  2.050345  191.615494   \n",
       "\n",
       "   f1_scale  \n",
       "0  0.431844  \n",
       "1  0.673084  \n",
       "2  0.500960  "
      ]
     },
     "execution_count": 40,
     "metadata": {},
     "output_type": "execute_result"
    }
   ],
   "source": [
    "# Rescale Data\n",
    "# x' = (x - min) / (max - min)\n",
    "n_feature = features.copy()\n",
    "minmax_scale = preprocessing.MinMaxScaler(feature_range=(0, 1))\n",
    "n_feature['f1_scale'] = minmax_scale.fit_transform(np.array(n_feature.f1).reshape(-1, 1))\n",
    "n_feature.head(3)"
   ]
  },
  {
   "cell_type": "code",
   "execution_count": 44,
   "metadata": {},
   "outputs": [
    {
     "data": {
      "image/png": "[encoded data removed]",
      "text/plain": [
       "<Figure size 864x432 with 1 Axes>"
      ]
     },
     "metadata": {
      "needs_background": "light"
     },
     "output_type": "display_data"
    }
   ],
   "source": [
    "plt.figure(figsize=(12, 6))\n",
    "plt.title(\"Feature Scaling\")\n",
    "plt.scatter(n_feature['f1'], n_feature['f1_scale'])\n",
    "plt.ylabel(\"Feature One Scaled\")\n",
    "plt.xlabel(\"Feature One\")\n",
    "plt.grid()\n",
    "plt.show()"
   ]
  },
  {
   "cell_type": "code",
   "execution_count": 45,
   "metadata": {},
   "outputs": [
    {
     "data": {
      "text/html": [
       "<div>\n",
       "<style scoped>\n",
       "    .dataframe tbody tr th:only-of-type {\n",
       "        vertical-align: middle;\n",
       "    }\n",
       "\n",
       "    .dataframe tbody tr th {\n",
       "        vertical-align: top;\n",
       "    }\n",
       "\n",
       "    .dataframe thead th {\n",
       "        text-align: right;\n",
       "    }\n",
       "</style>\n",
       "<table border=\"1\" class=\"dataframe\">\n",
       "  <thead>\n",
       "    <tr style=\"text-align: right;\">\n",
       "      <th></th>\n",
       "      <th>f1</th>\n",
       "      <th>f2</th>\n",
       "      <th>f3</th>\n",
       "      <th>f4</th>\n",
       "      <th>f5</th>\n",
       "      <th>f6</th>\n",
       "      <th>target</th>\n",
       "      <th>f1_scale</th>\n",
       "      <th>f1_standard</th>\n",
       "    </tr>\n",
       "  </thead>\n",
       "  <tbody>\n",
       "    <tr>\n",
       "      <th>0</th>\n",
       "      <td>-0.477218</td>\n",
       "      <td>-0.043818</td>\n",
       "      <td>-1.313865</td>\n",
       "      <td>0.884622</td>\n",
       "      <td>-0.082741</td>\n",
       "      <td>-0.627001</td>\n",
       "      <td>-151.384791</td>\n",
       "      <td>0.431844</td>\n",
       "      <td>-0.505706</td>\n",
       "    </tr>\n",
       "    <tr>\n",
       "      <th>1</th>\n",
       "      <td>0.708729</td>\n",
       "      <td>0.378728</td>\n",
       "      <td>-0.340076</td>\n",
       "      <td>-0.057615</td>\n",
       "      <td>-1.010014</td>\n",
       "      <td>0.755237</td>\n",
       "      <td>44.779894</td>\n",
       "      <td>0.673084</td>\n",
       "      <td>0.737816</td>\n",
       "    </tr>\n",
       "    <tr>\n",
       "      <th>2</th>\n",
       "      <td>-0.137441</td>\n",
       "      <td>-0.342813</td>\n",
       "      <td>-0.440835</td>\n",
       "      <td>1.103920</td>\n",
       "      <td>-0.267193</td>\n",
       "      <td>2.050345</td>\n",
       "      <td>191.615494</td>\n",
       "      <td>0.500960</td>\n",
       "      <td>-0.149433</td>\n",
       "    </tr>\n",
       "  </tbody>\n",
       "</table>\n",
       "</div>"
      ],
      "text/plain": [
       "         f1        f2        f3        f4        f5        f6      target  \\\n",
       "0 -0.477218 -0.043818 -1.313865  0.884622 -0.082741 -0.627001 -151.384791   \n",
       "1  0.708729  0.378728 -0.340076 -0.057615 -1.010014  0.755237   44.779894   \n",
       "2 -0.137441 -0.342813 -0.440835  1.103920 -0.267193  2.050345  191.615494   \n",
       "\n",
       "   f1_scale  f1_standard  \n",
       "0  0.431844    -0.505706  \n",
       "1  0.673084     0.737816  \n",
       "2  0.500960    -0.149433  "
      ]
     },
     "execution_count": 45,
     "metadata": {},
     "output_type": "execute_result"
    }
   ],
   "source": [
    "# Standardize a feature (mean of 0, std of 1)\n",
    "# x' = (x - Mean) / std\n",
    "scaler = preprocessing.StandardScaler()\n",
    "n_feature['f1_standard'] = scaler.fit_transform(np.array(n_feature.f1).reshape(-1, 1))\n",
    "n_feature.head(3)"
   ]
  },
  {
   "cell_type": "code",
   "execution_count": 48,
   "metadata": {},
   "outputs": [
    {
     "data": {
      "text/html": [
       "<div>\n",
       "<style scoped>\n",
       "    .dataframe tbody tr th:only-of-type {\n",
       "        vertical-align: middle;\n",
       "    }\n",
       "\n",
       "    .dataframe tbody tr th {\n",
       "        vertical-align: top;\n",
       "    }\n",
       "\n",
       "    .dataframe thead th {\n",
       "        text-align: right;\n",
       "    }\n",
       "</style>\n",
       "<table border=\"1\" class=\"dataframe\">\n",
       "  <thead>\n",
       "    <tr style=\"text-align: right;\">\n",
       "      <th></th>\n",
       "      <th>f1</th>\n",
       "      <th>f2</th>\n",
       "      <th>f3</th>\n",
       "      <th>f4</th>\n",
       "      <th>f5</th>\n",
       "      <th>f6</th>\n",
       "      <th>target</th>\n",
       "      <th>f1_scale</th>\n",
       "      <th>f1_standard</th>\n",
       "      <th>f1_robustSt</th>\n",
       "    </tr>\n",
       "  </thead>\n",
       "  <tbody>\n",
       "    <tr>\n",
       "      <th>0</th>\n",
       "      <td>-0.477218</td>\n",
       "      <td>-0.043818</td>\n",
       "      <td>-1.313865</td>\n",
       "      <td>0.884622</td>\n",
       "      <td>-0.082741</td>\n",
       "      <td>-0.627001</td>\n",
       "      <td>-151.384791</td>\n",
       "      <td>0.431844</td>\n",
       "      <td>-0.505706</td>\n",
       "      <td>-0.386434</td>\n",
       "    </tr>\n",
       "    <tr>\n",
       "      <th>1</th>\n",
       "      <td>0.708729</td>\n",
       "      <td>0.378728</td>\n",
       "      <td>-0.340076</td>\n",
       "      <td>-0.057615</td>\n",
       "      <td>-1.010014</td>\n",
       "      <td>0.755237</td>\n",
       "      <td>44.779894</td>\n",
       "      <td>0.673084</td>\n",
       "      <td>0.737816</td>\n",
       "      <td>0.568626</td>\n",
       "    </tr>\n",
       "    <tr>\n",
       "      <th>2</th>\n",
       "      <td>-0.137441</td>\n",
       "      <td>-0.342813</td>\n",
       "      <td>-0.440835</td>\n",
       "      <td>1.103920</td>\n",
       "      <td>-0.267193</td>\n",
       "      <td>2.050345</td>\n",
       "      <td>191.615494</td>\n",
       "      <td>0.500960</td>\n",
       "      <td>-0.149433</td>\n",
       "      <td>-0.112807</td>\n",
       "    </tr>\n",
       "  </tbody>\n",
       "</table>\n",
       "</div>"
      ],
      "text/plain": [
       "         f1        f2        f3        f4        f5        f6      target  \\\n",
       "0 -0.477218 -0.043818 -1.313865  0.884622 -0.082741 -0.627001 -151.384791   \n",
       "1  0.708729  0.378728 -0.340076 -0.057615 -1.010014  0.755237   44.779894   \n",
       "2 -0.137441 -0.342813 -0.440835  1.103920 -0.267193  2.050345  191.615494   \n",
       "\n",
       "   f1_scale  f1_standard  f1_robustSt  \n",
       "0  0.431844    -0.505706    -0.386434  \n",
       "1  0.673084     0.737816     0.568626  \n",
       "2  0.500960    -0.149433    -0.112807  "
      ]
     },
     "execution_count": 48,
     "metadata": {},
     "output_type": "execute_result"
    }
   ],
   "source": [
    "# Robust Scaler uses inter-quartile range to avoid outliers\n",
    "# Standardize a feature (mean of 0, std of 1) \n",
    "# x' = (x - Mean) / std\n",
    "r_scaler = preprocessing.RobustScaler()\n",
    "n_feature['f1_robustSt'] = r_scaler.fit_transform(np.array(n_feature.f1).reshape(-1, 1))\n",
    "n_feature.head(3)"
   ]
  },
  {
   "cell_type": "markdown",
   "metadata": {},
   "source": [
    "Normalizing: Observation magnitude of one or sum of one"
   ]
  },
  {
   "cell_type": "code",
   "execution_count": 59,
   "metadata": {},
   "outputs": [
    {
     "data": {
      "text/plain": [
       "array([[-0.26937705, -0.02473421, -0.74164216,  0.49934611, -0.04670539,\n",
       "        -0.35392542],\n",
       "       [ 0.46181195,  0.24678144, -0.22159514, -0.03754253, -0.65813082,\n",
       "         0.49211646],\n",
       "       [-0.05694798, -0.14204309, -0.18265847,  0.45740518, -0.11071052,\n",
       "         0.84955297]])"
      ]
     },
     "execution_count": 59,
     "metadata": {},
     "output_type": "execute_result"
    }
   ],
   "source": [
    "# Transform l2 -> length of 1 Euclidean normm\n",
    "# x' = x / (Current Length: sqrt of squared features)\n",
    "features_l2_norm = preprocessing.Normalizer(norm=\"l2\").transform(features.iloc[:, :6].values)\n",
    "features_l2_norm[:3]"
   ]
  },
  {
   "cell_type": "code",
   "execution_count": 61,
   "metadata": {},
   "outputs": [
    {
     "data": {
      "text/plain": [
       "array([[-0.13916042, -0.01277771, -0.38313299,  0.25796264, -0.02412805,\n",
       "        -0.18283818],\n",
       "       [ 0.21804376,  0.11651745, -0.10462578, -0.01772565, -0.31073539,\n",
       "         0.23235198],\n",
       "       [-0.03164976, -0.07894273, -0.10151538,  0.25421028, -0.06152915,\n",
       "         0.47215271]])"
      ]
     },
     "execution_count": 61,
     "metadata": {},
     "output_type": "execute_result"
    }
   ],
   "source": [
    "# Manhattan (L1) Norm taxi cab\n",
    "# x' = x / (sum of features)\n",
    "features_l1_norm = preprocessing.Normalizer(norm=\"l1\").transform(features.iloc[:, :6].values)\n",
    "features_l1_norm[:3]"
   ]
  },
  {
   "cell_type": "markdown",
   "metadata": {},
   "source": [
    "Generating Polynomial and Interacting Features"
   ]
  },
  {
   "cell_type": "code",
   "execution_count": 62,
   "metadata": {},
   "outputs": [
    {
     "data": {
      "text/plain": [
       "array([[ 2.,  3.,  4.,  6.,  9.],\n",
       "       [ 3.,  4.,  9., 12., 16.]])"
      ]
     },
     "execution_count": 62,
     "metadata": {},
     "output_type": "execute_result"
    }
   ],
   "source": [
    "test = np.array([[2, 3], [3, 4]])\n",
    "polynomial_interaction = preprocessing.PolynomialFeatures(degree=2, interaction_only=False, include_bias=False)\n",
    "polynomial_interaction.fit_transform(test)"
   ]
  },
  {
   "cell_type": "markdown",
   "metadata": {},
   "source": [
    "Create Functions"
   ]
  },
  {
   "cell_type": "code",
   "execution_count": 63,
   "metadata": {},
   "outputs": [
    {
     "name": "stderr",
     "output_type": "stream",
     "text": [
      "C:\\Users\\Jenn\\Anaconda3\\envs\\everyday\\lib\\site-packages\\sklearn\\preprocessing\\_function_transformer.py:98: FutureWarning: The default validate=True will be replaced by validate=False in 0.22.\n",
      "  \"validate=False in 0.22.\", FutureWarning)\n"
     ]
    },
    {
     "data": {
      "text/plain": [
       "array([[12, 13],\n",
       "       [13, 14]])"
      ]
     },
     "execution_count": 63,
     "metadata": {},
     "output_type": "execute_result"
    }
   ],
   "source": [
    "def add_ten(x):\n",
    "    return x+10\n",
    "my_transformer = preprocessing.FunctionTransformer(add_ten)\n",
    "my_transformer.transform(test)"
   ]
  },
  {
   "cell_type": "code",
   "execution_count": 65,
   "metadata": {},
   "outputs": [
    {
     "data": {
      "text/html": [
       "<div>\n",
       "<style scoped>\n",
       "    .dataframe tbody tr th:only-of-type {\n",
       "        vertical-align: middle;\n",
       "    }\n",
       "\n",
       "    .dataframe tbody tr th {\n",
       "        vertical-align: top;\n",
       "    }\n",
       "\n",
       "    .dataframe thead th {\n",
       "        text-align: right;\n",
       "    }\n",
       "</style>\n",
       "<table border=\"1\" class=\"dataframe\">\n",
       "  <thead>\n",
       "    <tr style=\"text-align: right;\">\n",
       "      <th></th>\n",
       "      <th>0</th>\n",
       "      <th>1</th>\n",
       "    </tr>\n",
       "  </thead>\n",
       "  <tbody>\n",
       "    <tr>\n",
       "      <th>0</th>\n",
       "      <td>12</td>\n",
       "      <td>13</td>\n",
       "    </tr>\n",
       "    <tr>\n",
       "      <th>1</th>\n",
       "      <td>13</td>\n",
       "      <td>14</td>\n",
       "    </tr>\n",
       "  </tbody>\n",
       "</table>\n",
       "</div>"
      ],
      "text/plain": [
       "    0   1\n",
       "0  12  13\n",
       "1  13  14"
      ]
     },
     "execution_count": 65,
     "metadata": {},
     "output_type": "execute_result"
    }
   ],
   "source": [
    "pd.DataFrame(test).apply(add_ten)"
   ]
  },
  {
   "cell_type": "markdown",
   "metadata": {},
   "source": [
    "Outliers\n",
    "- Elliptic Envelope: sklearn.covariance.EllipticEnvelope: (contamination parameter % outliers)\n",
    "- Use Interquartile range: outliers 1.5 IQR less than first quartile or 1.5 IQR more than third quartile\n",
    "\n",
    "Handle Outliers:\n",
    "- Drop them\n",
    "- Mark them as a feature\n",
    "- transform the feature to dampen the effect of the outlier (ex: take log)"
   ]
  },
  {
   "cell_type": "markdown",
   "metadata": {},
   "source": [
    "Discrete and Bins\n",
    "- preprocessing.Binarizer : threshold and 1 if greater else 0\n",
    "- np.digitize : bins=[20, 30, 64]; left edge unles right=True\n",
    "- Use sklearn.cluster.Kmeans to identify clusters and have the cluster as a feature if you know how many features"
   ]
  },
  {
   "cell_type": "markdown",
   "metadata": {},
   "source": [
    "Missing Values:\n",
    "- Deleting: array[~np.isnan(array).any(axis=1]\n",
    "- Deleting: df.dropna()\n",
    "- Imput Value using K-nearest neighbors using fancyimput.KNN\n",
    "- Imput Value: sklearn.preprocessing.Imputer and define strategy: mean, mode, median"
   ]
  },
  {
   "cell_type": "markdown",
   "metadata": {},
   "source": [
    "### Categorical Data\n",
    "- One Hot encoding for Non-ordered and drop one of the features to avoid linear dependence"
   ]
  },
  {
   "cell_type": "code",
   "execution_count": 73,
   "metadata": {},
   "outputs": [
    {
     "name": "stdout",
     "output_type": "stream",
     "text": [
      "['Delaware' 'Iowa' 'Ohio' 'Texas'] [[0 0 0 1]\n",
      " [1 0 0 0]\n",
      " [0 0 1 0]\n",
      " [0 1 0 0]]\n"
     ]
    }
   ],
   "source": [
    "# Encoding non ordered data\n",
    "cat_test = np.array([['Texas', 'Large'], ['Delaware', 'Small'], ['Ohio', 'Medium'], ['Iowa', 'Medium']])\n",
    "one_hot = preprocessing.LabelBinarizer()\n",
    "one_hot.fit_transform(cat_test[:,0])\n",
    "print(one_hot.classes_, one_hot.fit_transform(cat_test[:,0]))"
   ]
  },
  {
   "cell_type": "code",
   "execution_count": 74,
   "metadata": {},
   "outputs": [
    {
     "data": {
      "text/html": [
       "<div>\n",
       "<style scoped>\n",
       "    .dataframe tbody tr th:only-of-type {\n",
       "        vertical-align: middle;\n",
       "    }\n",
       "\n",
       "    .dataframe tbody tr th {\n",
       "        vertical-align: top;\n",
       "    }\n",
       "\n",
       "    .dataframe thead th {\n",
       "        text-align: right;\n",
       "    }\n",
       "</style>\n",
       "<table border=\"1\" class=\"dataframe\">\n",
       "  <thead>\n",
       "    <tr style=\"text-align: right;\">\n",
       "      <th></th>\n",
       "      <th>Delaware</th>\n",
       "      <th>Iowa</th>\n",
       "      <th>Ohio</th>\n",
       "      <th>Texas</th>\n",
       "    </tr>\n",
       "  </thead>\n",
       "  <tbody>\n",
       "    <tr>\n",
       "      <th>0</th>\n",
       "      <td>0</td>\n",
       "      <td>0</td>\n",
       "      <td>0</td>\n",
       "      <td>1</td>\n",
       "    </tr>\n",
       "    <tr>\n",
       "      <th>1</th>\n",
       "      <td>1</td>\n",
       "      <td>0</td>\n",
       "      <td>0</td>\n",
       "      <td>0</td>\n",
       "    </tr>\n",
       "    <tr>\n",
       "      <th>2</th>\n",
       "      <td>0</td>\n",
       "      <td>0</td>\n",
       "      <td>1</td>\n",
       "      <td>0</td>\n",
       "    </tr>\n",
       "    <tr>\n",
       "      <th>3</th>\n",
       "      <td>0</td>\n",
       "      <td>1</td>\n",
       "      <td>0</td>\n",
       "      <td>0</td>\n",
       "    </tr>\n",
       "  </tbody>\n",
       "</table>\n",
       "</div>"
      ],
      "text/plain": [
       "   Delaware  Iowa  Ohio  Texas\n",
       "0         0     0     0      1\n",
       "1         1     0     0      0\n",
       "2         0     0     1      0\n",
       "3         0     1     0      0"
      ]
     },
     "execution_count": 74,
     "metadata": {},
     "output_type": "execute_result"
    }
   ],
   "source": [
    "pd.get_dummies(cat_test[:, 0])"
   ]
  },
  {
   "cell_type": "code",
   "execution_count": 76,
   "metadata": {},
   "outputs": [
    {
     "data": {
      "text/plain": [
       "(array([[0, 0, 1, 0, 1],\n",
       "        [1, 1, 0, 0, 0],\n",
       "        [0, 0, 0, 1, 1],\n",
       "        [1, 0, 1, 0, 0]]),\n",
       " array(['Alabama', 'California', 'Florida', 'Iowa', 'Texas'], dtype=object))"
      ]
     },
     "execution_count": 76,
     "metadata": {},
     "output_type": "execute_result"
    }
   ],
   "source": [
    "# Each Observation lists muliple Classes\n",
    "mc_test = [('Texas', 'Florida'), ('California', 'Alabama'), ('Texas', 'Iowa'), ('Florida', 'Alabama')]\n",
    "one_hot_mc = preprocessing.MultiLabelBinarizer()\n",
    "one_hot_mc.fit_transform(mc_test), one_hot_mc.classes_"
   ]
  },
  {
   "cell_type": "code",
   "execution_count": 90,
   "metadata": {},
   "outputs": [
    {
     "data": {
      "text/html": [
       "<div>\n",
       "<style scoped>\n",
       "    .dataframe tbody tr th:only-of-type {\n",
       "        vertical-align: middle;\n",
       "    }\n",
       "\n",
       "    .dataframe tbody tr th {\n",
       "        vertical-align: top;\n",
       "    }\n",
       "\n",
       "    .dataframe thead th {\n",
       "        text-align: right;\n",
       "    }\n",
       "</style>\n",
       "<table border=\"1\" class=\"dataframe\">\n",
       "  <thead>\n",
       "    <tr style=\"text-align: right;\">\n",
       "      <th></th>\n",
       "      <th>size</th>\n",
       "      <th>state_Iowa</th>\n",
       "      <th>state_Ohio</th>\n",
       "      <th>state_Texas</th>\n",
       "      <th>sizeN</th>\n",
       "    </tr>\n",
       "  </thead>\n",
       "  <tbody>\n",
       "    <tr>\n",
       "      <th>0</th>\n",
       "      <td>Large</td>\n",
       "      <td>0</td>\n",
       "      <td>0</td>\n",
       "      <td>1</td>\n",
       "      <td>3</td>\n",
       "    </tr>\n",
       "    <tr>\n",
       "      <th>1</th>\n",
       "      <td>Small</td>\n",
       "      <td>0</td>\n",
       "      <td>0</td>\n",
       "      <td>0</td>\n",
       "      <td>1</td>\n",
       "    </tr>\n",
       "    <tr>\n",
       "      <th>2</th>\n",
       "      <td>Medium</td>\n",
       "      <td>0</td>\n",
       "      <td>1</td>\n",
       "      <td>0</td>\n",
       "      <td>2</td>\n",
       "    </tr>\n",
       "    <tr>\n",
       "      <th>3</th>\n",
       "      <td>Medium</td>\n",
       "      <td>1</td>\n",
       "      <td>0</td>\n",
       "      <td>0</td>\n",
       "      <td>2</td>\n",
       "    </tr>\n",
       "  </tbody>\n",
       "</table>\n",
       "</div>"
      ],
      "text/plain": [
       "     size  state_Iowa  state_Ohio  state_Texas  sizeN\n",
       "0   Large           0           0            1      3\n",
       "1   Small           0           0            0      1\n",
       "2  Medium           0           1            0      2\n",
       "3  Medium           1           0            0      2"
      ]
     },
     "execution_count": 90,
     "metadata": {},
     "output_type": "execute_result"
    }
   ],
   "source": [
    "cat_df = pd.DataFrame(cat_test, columns=['state', 'size'])\n",
    "cat_df.head(3)\n",
    "cat_df = pd.get_dummies(cat_df, columns=['state'], drop_first=True)\n",
    "scale_map = {'Small': 1, 'Medium': 2, 'Large': 3}\n",
    "cat_df['sizeN'] = cat_df['size'].replace(scale_map)\n",
    "cat_df"
   ]
  },
  {
   "cell_type": "markdown",
   "metadata": {},
   "source": [
    "DictVectorizer: word count dictionary for documents as use case\n",
    "- sklearn.feature_extraction.DictVectorizer: can define as sparse or not, fit_transform"
   ]
  },
  {
   "cell_type": "markdown",
   "metadata": {},
   "source": [
    "Missing Values\n",
    "- Train a KNN on known and then predict for unknown\n",
    "- Fill with Most common"
   ]
  },
  {
   "cell_type": "markdown",
   "metadata": {},
   "source": [
    "Unbalanced Classes:\n",
    "- Collect more data\n",
    "- Use a good model evaluation metric (Not accuracy - precision, recall, f1, etc)\n",
    "- Specify class weights in training algorithm\n",
    "- Downsample: np.random.choice\n",
    "- Upsample: np.random.choiice with replace=True\n",
    "\n",
    "np.random.choice(indexClass1, SizeClass2, replace) and then vstack the features and targets of chosen"
   ]
  },
  {
   "cell_type": "code",
   "execution_count": null,
   "metadata": {},
   "outputs": [],
   "source": []
  }
 ],
 "metadata": {
  "kernelspec": {
   "display_name": "Python 3",
   "language": "python",
   "name": "python3"
  },
  "language_info": {
   "codemirror_mode": {
    "name": "ipython",
    "version": 3
   },
   "file_extension": ".py",
   "mimetype": "text/x-python",
   "name": "python",
   "nbconvert_exporter": "python",
   "pygments_lexer": "ipython3",
   "version": "3.6.8"
  }
 },
 "nbformat": 4,
 "nbformat_minor": 2
}
